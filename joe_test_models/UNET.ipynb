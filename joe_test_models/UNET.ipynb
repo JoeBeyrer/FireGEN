{
 "cells": [
  {
   "cell_type": "code",
   "execution_count": 1,
   "metadata": {},
   "outputs": [
    {
     "name": "stderr",
     "output_type": "stream",
     "text": [
      "2025-04-27 22:14:39.011286: I tensorflow/core/platform/cpu_feature_guard.cc:182] This TensorFlow binary is optimized to use available CPU instructions in performance-critical operations.\n",
      "To enable the following instructions: AVX2 FMA, in other operations, rebuild TensorFlow with the appropriate compiler flags.\n"
     ]
    }
   ],
   "source": [
    "from utils import *\n",
    "from models import *\n",
    "from loss import *\n",
    "import numpy as np\n",
    "import os\n",
    "import matplotlib.pyplot as plt\n",
    "from matplotlib import colors\n",
    "from datetime import datetime"
   ]
  },
  {
   "cell_type": "code",
   "execution_count": 2,
   "metadata": {},
   "outputs": [],
   "source": [
    "train_path = '../next_day_fires/next_day_wildfire_spread_train*'\n",
    "val_path = '../next_day_fires/next_day_wildfire_spread_eval*'\n",
    "test_path = '../next_day_fires/next_day_wildfire_spread_test*'\n",
    "features = ['elevation', 'th', 'vs',  'tmmn', 'tmmx', 'sph', 'pr', 'pdsi', 'NDVI', 'population', 'erc', 'PrevFireMask', 'FireMask']"
   ]
  },
  {
   "cell_type": "markdown",
   "metadata": {},
   "source": [
    "# Load Data"
   ]
  },
  {
   "cell_type": "markdown",
   "metadata": {},
   "source": [
    "## Training Data"
   ]
  },
  {
   "cell_type": "code",
   "execution_count": 3,
   "metadata": {},
   "outputs": [
    {
     "name": "stdout",
     "output_type": "stream",
     "text": [
      "torch.Size([100, 12, 32, 32])\n",
      "torch.Size([100, 1, 32, 32])\n"
     ]
    }
   ],
   "source": [
    "train_dataset = get_dataset(\n",
    "      train_path,\n",
    "      data_size=64,\n",
    "      sample_size=32,\n",
    "      batch_size=100,\n",
    "      num_in_channels=12,\n",
    "      compression_type=None,\n",
    "      clip_and_normalize=False,\n",
    "      clip_and_rescale=False,\n",
    "      random_crop=True,\n",
    "      center_crop=False)\n",
    "\n",
    "train_inputs, train_labels = next(iter(train_dataset))\n",
    "\n",
    "print(train_inputs.shape)\n",
    "print(train_labels.shape)"
   ]
  },
  {
   "cell_type": "code",
   "execution_count": 4,
   "metadata": {},
   "outputs": [],
   "source": [
    "titles = [\n",
    "  'Elevation',\n",
    "  'Wind\\ndirection',\n",
    "  'Wind\\nvelocity',\n",
    "  'Min\\ntemp',\n",
    "  'Max\\ntemp',\n",
    "  'Humidity',\n",
    "  'Precip',\n",
    "  'Drought',\n",
    "  'Vegetation',\n",
    "  'Population\\ndensity',\n",
    "  'Energy\\nrelease\\ncomponent',\n",
    "  'Previous\\nfire\\nmask',\n",
    "  'Fire\\nmask'\n",
    "]\n",
    "\n",
    "n_rows = 5\n",
    "n_features = train_inputs.shape[3] \n",
    "CMAP = colors.ListedColormap(['black', 'silver', 'orangered'])\n",
    "BOUNDS = [-1, -0.1, 0.001, 1]\n",
    "NORM = colors.BoundaryNorm(BOUNDS, CMAP.N)\n",
    "keys = ['elevation', 'th', 'vs',  'tmmn', 'tmmx', 'sph', 'pr', 'pdsi', 'NDVI', 'population', 'erc', 'PrevFireMask']"
   ]
  },
  {
   "cell_type": "code",
   "execution_count": 5,
   "metadata": {},
   "outputs": [],
   "source": [
    "# fig = plt.figure(figsize=(20,8))\n",
    "\n",
    "# for i in range(n_rows):\n",
    "#   for j in range(n_features + 1):\n",
    "#     plt.subplot(n_rows, n_features + 1, i * (n_features + 1) + j + 1)\n",
    "#     if i == 0:\n",
    "#       plt.title(titles[j], fontsize=15)\n",
    "#     if j < n_features - 1:\n",
    "#       plt.imshow(train_inputs[i, j, :, :], cmap='viridis')\n",
    "#     if j == n_features - 1:\n",
    "#       plt.imshow(train_inputs[i, -1, :, :], cmap=CMAP, norm=NORM)\n",
    "#     if j == n_features:\n",
    "#       plt.imshow(train_labels[i, 0, :, :], cmap=CMAP, norm=NORM) \n",
    "#     plt.axis('off')\n",
    "# plt.tight_layout()"
   ]
  },
  {
   "cell_type": "markdown",
   "metadata": {},
   "source": [
    "## Vlidation Data"
   ]
  },
  {
   "cell_type": "code",
   "execution_count": 6,
   "metadata": {},
   "outputs": [
    {
     "name": "stdout",
     "output_type": "stream",
     "text": [
      "torch.Size([100, 12, 32, 32])\n",
      "torch.Size([100, 1, 32, 32])\n"
     ]
    }
   ],
   "source": [
    "val_dataset = get_dataset(\n",
    "      val_path,\n",
    "      data_size=64,\n",
    "      sample_size=32,\n",
    "      batch_size=100,\n",
    "      num_in_channels=12,\n",
    "      compression_type=None,\n",
    "      clip_and_normalize=False,\n",
    "      clip_and_rescale=False,\n",
    "      random_crop=True,\n",
    "      center_crop=False)\n",
    "\n",
    "val_inputs, val_labels = next(iter(val_dataset))\n",
    "\n",
    "print(val_inputs.shape)\n",
    "print(val_labels.shape)"
   ]
  },
  {
   "cell_type": "markdown",
   "metadata": {},
   "source": [
    "## Test Data"
   ]
  },
  {
   "cell_type": "code",
   "execution_count": 7,
   "metadata": {},
   "outputs": [
    {
     "name": "stdout",
     "output_type": "stream",
     "text": [
      "torch.Size([100, 12, 32, 32])\n",
      "torch.Size([100, 1, 32, 32])\n"
     ]
    }
   ],
   "source": [
    "test_dataset = get_dataset(\n",
    "      test_path,\n",
    "      data_size=64,\n",
    "      sample_size=32,\n",
    "      batch_size=100,\n",
    "      num_in_channels=12,\n",
    "      compression_type=None,\n",
    "      clip_and_normalize=False,\n",
    "      clip_and_rescale=False,\n",
    "      random_crop=True,\n",
    "      center_crop=False)\n",
    "\n",
    "test_inputs, test_labels = next(iter(val_dataset))\n",
    "\n",
    "print(test_inputs.shape)\n",
    "print(test_labels.shape)"
   ]
  },
  {
   "cell_type": "code",
   "execution_count": 8,
   "metadata": {},
   "outputs": [],
   "source": [
    "# Build DataLoader\n",
    "train_loader = DataLoader(train_dataset, batch_size=None, num_workers=0, pin_memory=True)\n",
    "val_loader = DataLoader(val_dataset, batch_size=None, num_workers=0, pin_memory=True)\n",
    "test_loader = DataLoader(test_dataset, batch_size=None, num_workers=0, pin_memory=True)"
   ]
  },
  {
   "cell_type": "markdown",
   "metadata": {},
   "source": [
    "# Model Initialization"
   ]
  },
  {
   "cell_type": "code",
   "execution_count": 9,
   "metadata": {},
   "outputs": [],
   "source": [
    "class UNet(nn.Module):\n",
    "    def __init__(self, kernel_size, stride, padding):\n",
    "        super().__init__()\n",
    "\n",
    "        # First we need to make the Encoder\n",
    "        # There are 5 Encoder modules, each consisting of two convolution encoder layers to \n",
    "        # increase the number of channels and a maxpooling layer to downsample\n",
    "        self.e11 = nn.Conv2d(12, 32, kernel_size=kernel_size, stride=stride, padding=padding)\n",
    "        self.e12 = nn.Conv2d(32, 32, kernel_size=kernel_size, stride=stride, padding=padding)\n",
    "        self.maxpool1 = nn.MaxPool2d(kernel_size=2, stride=2)\n",
    "\n",
    "        self.e21 = nn.Conv2d(32, 64, kernel_size=kernel_size, stride=stride, padding=padding)\n",
    "        self.e22 = nn.Conv2d(64, 64, kernel_size=kernel_size, stride=stride, padding=padding)\n",
    "        self.maxpool2 = nn.MaxPool2d(kernel_size=2, stride=2)\n",
    "\n",
    "        self.e31 = nn.Conv2d(64, 128, kernel_size=kernel_size, stride=stride, padding=padding)\n",
    "        self.e32 = nn.Conv2d(128, 128, kernel_size=kernel_size, stride=stride, padding=padding)\n",
    "        self.maxpool3 = nn.MaxPool2d(kernel_size=2, stride=2)\n",
    "\n",
    "        self.e41 = nn.Conv2d(128, 256, kernel_size=kernel_size, stride=stride, padding=padding)\n",
    "        self.e42 = nn.Conv2d(256, 256, kernel_size=kernel_size, stride=stride, padding=padding)\n",
    "        self.maxpool4 = nn.MaxPool2d(kernel_size=2, stride=2)\n",
    "\n",
    "        self.e51 = nn.Conv2d(256, 512, kernel_size=kernel_size, stride=stride, padding=padding)\n",
    "        self.e52 = nn.Conv2d(512, 512, kernel_size=kernel_size, stride=stride, padding=padding)\n",
    "\n",
    "\n",
    "        # Next, we will make the Decoder \n",
    "        # There will be 4 decoder modules, each upsampling using transposed convolution\n",
    "        # followed by two convolution decoder layers to recover the original image shape\n",
    "        self.upconv1 = nn.ConvTranspose2d(512, 256, kernel_size=2, stride=2)\n",
    "        self.d11 = nn.Conv2d(512, 256, kernel_size=kernel_size, stride=stride, padding=padding)\n",
    "        self.d12 = nn.Conv2d(256, 256, kernel_size=kernel_size, stride=stride, padding=padding)\n",
    "\n",
    "        self.upconv2 = nn.ConvTranspose2d(256, 128, kernel_size=2, stride=2)\n",
    "        self.d21 = nn.Conv2d(256, 128, kernel_size=kernel_size, stride=stride, padding=padding)\n",
    "        self.d22 = nn.Conv2d(128, 128, kernel_size=kernel_size, stride=stride, padding=padding)\n",
    "\n",
    "        self.upconv3 = nn.ConvTranspose2d(128, 64, kernel_size=2, stride=2)\n",
    "        self.d31 = nn.Conv2d(128, 64, kernel_size=kernel_size, stride=stride, padding=padding)\n",
    "        self.d32 = nn.Conv2d(64, 64, kernel_size=kernel_size, stride=stride, padding=padding)\n",
    "\n",
    "        self.upconv4 = nn.ConvTranspose2d(64, 32, kernel_size=2, stride=2)\n",
    "        self.d41 = nn.Conv2d(64, 32, kernel_size=kernel_size, stride=stride, padding=padding)\n",
    "        self.d42 = nn.Conv2d(32, 32, kernel_size=kernel_size, stride=stride, padding=padding)\n",
    "\n",
    "\n",
    "        # Finally, we use a final output layer to create a single channel prediction\n",
    "        self.output = nn.Conv2d(32, 1, kernel_size=1)\n",
    "\n",
    "\n",
    "    # Now we create a forward pass pipeline for input processing through the model\n",
    "    def forward(self, x):\n",
    "        # Each encoder layer uses ReLU activation\n",
    "        e11 = relu(self.e11(x))\n",
    "        e12 = relu(self.e12(e11))\n",
    "        maxpool1 = self.maxpool1(e12)\n",
    "\n",
    "        e21 = relu(self.e21(maxpool1))\n",
    "        e22 = relu(self.e22(e21))\n",
    "        maxpool2 = self.maxpool2(e22)\n",
    "\n",
    "        e31 = relu(self.e31(maxpool2))\n",
    "        e32 = relu(self.e32(e31))\n",
    "        maxpool3 = self.maxpool3(e32)\n",
    "\n",
    "        e41 = relu(self.e41(maxpool3))\n",
    "        e42 = relu(self.e42(e41))\n",
    "        maxpool4 = self.maxpool4(e42)\n",
    "\n",
    "        e51 = relu(self.e51(maxpool4))\n",
    "        e52 = relu(self.e52(e51))\n",
    "\n",
    "        # At each decoder level, we must concatenate corresponding encoder level outputs to retain image information\n",
    "        upconv1 = self.upconv1(e52)\n",
    "        upconv1 = torch.cat([upconv1, e42], dim=1)\n",
    "        d11 = self.d11(upconv1)\n",
    "        d12 = self.d12(d11)\n",
    "\n",
    "        upconv2 = self.upconv2(e42)\n",
    "        upconv2 = torch.cat([upconv2, e32], dim=1)\n",
    "        d21 = self.d21(upconv2)\n",
    "        d22 = self.d22(d21)\n",
    "\n",
    "        upconv3 = self.upconv3(d22)\n",
    "        upconv3 = torch.cat([upconv3, e22], dim=1)\n",
    "        d31 = self.d31(upconv3)\n",
    "        d32 = self.d32(d31)\n",
    "\n",
    "        upconv4 = self.upconv4(d32)\n",
    "        upconv4 = torch.cat([upconv4, e12], dim=1)\n",
    "        d41 = self.d41(upconv4)\n",
    "        d42 = self.d42(d41)\n",
    "\n",
    "        # Use sigmoid activation on the output layers\n",
    "        out = self.output(d42)\n",
    "        out = sigmoid(out)\n",
    "\n",
    "        return out"
   ]
  },
  {
   "cell_type": "markdown",
   "metadata": {},
   "source": [
    "### Hyperparameters"
   ]
  },
  {
   "cell_type": "code",
   "execution_count": 10,
   "metadata": {},
   "outputs": [],
   "source": [
    "# parameter setup\n",
    "folder_path = './UNET_models'\n",
    "\n",
    "kernel_size = 3\n",
    "stride = 1\n",
    "padding = 1\n",
    "\n",
    "num_epochs = 200\n",
    "patience = 50\n",
    "\n",
    "bce_weight = 0.5 # Coefficient for Binary Cross Entropy loss in loss function\n",
    "\n",
    "device = torch.device(\"cuda\" if torch.cuda.is_available() else \"cpu\")"
   ]
  },
  {
   "cell_type": "markdown",
   "metadata": {},
   "source": [
    "### Loss Function"
   ]
  },
  {
   "cell_type": "code",
   "execution_count": 11,
   "metadata": {},
   "outputs": [],
   "source": [
    "# Loss function setup\n",
    "# Create a class for Dice Loss\n",
    "class DiceLoss(nn.Module):\n",
    "    # Initializing the loss function will require a smoothing parameter to prevent division by zero \n",
    "    def __init__(self, smooth=1e-6):\n",
    "        super(DiceLoss, self).__init__()\n",
    "        self.smooth = smooth\n",
    "    \n",
    "    # The loss function is defined in a forward pass as 2*(intersection)/(pred + true)\n",
    "    def forward(self, pred, true):\n",
    "        pred = pred.view(-1)\n",
    "        true = true.view(-1)\n",
    "        intersection = (pred*true).sum()\n",
    "        dice = (2*intersection + self.smooth) / (pred.sum() + true.sum() + self.smooth)\n",
    "        return 1 - dice\n",
    "\n",
    "# Create a class for BCE Loss\n",
    "class BCEDiceLoss(nn.Module):\n",
    "    # Initializing the loss function will require a BCE weight parameter to determine the weigth of each loss \n",
    "    def __init__(self, bce_weight=0.5):\n",
    "        super().__init__()\n",
    "        # Declare both loss functions\n",
    "        self.bce = nn.BCELoss()\n",
    "        self.dice = DiceLoss()\n",
    "        self.bce_weight = bce_weight\n",
    "\n",
    "    # The loss function is defined by taking the weighted sum of BCE Loss and Dice Loss\n",
    "    def forward(self, pred, true):\n",
    "        bce_loss = self.bce(pred, true)\n",
    "        dice_loss = self.dice(pred, true)\n",
    "        return bce_weight * bce_loss + (1-bce_weight) * dice_loss"
   ]
  },
  {
   "cell_type": "markdown",
   "metadata": {},
   "source": [
    "### Model Initialization"
   ]
  },
  {
   "cell_type": "code",
   "execution_count": 12,
   "metadata": {},
   "outputs": [
    {
     "data": {
      "text/plain": [
       "UNet(\n",
       "  (e11): Conv2d(12, 32, kernel_size=(3, 3), stride=(1, 1), padding=(1, 1))\n",
       "  (e12): Conv2d(32, 32, kernel_size=(3, 3), stride=(1, 1), padding=(1, 1))\n",
       "  (maxpool1): MaxPool2d(kernel_size=2, stride=2, padding=0, dilation=1, ceil_mode=False)\n",
       "  (e21): Conv2d(32, 64, kernel_size=(3, 3), stride=(1, 1), padding=(1, 1))\n",
       "  (e22): Conv2d(64, 64, kernel_size=(3, 3), stride=(1, 1), padding=(1, 1))\n",
       "  (maxpool2): MaxPool2d(kernel_size=2, stride=2, padding=0, dilation=1, ceil_mode=False)\n",
       "  (e31): Conv2d(64, 128, kernel_size=(3, 3), stride=(1, 1), padding=(1, 1))\n",
       "  (e32): Conv2d(128, 128, kernel_size=(3, 3), stride=(1, 1), padding=(1, 1))\n",
       "  (maxpool3): MaxPool2d(kernel_size=2, stride=2, padding=0, dilation=1, ceil_mode=False)\n",
       "  (e41): Conv2d(128, 256, kernel_size=(3, 3), stride=(1, 1), padding=(1, 1))\n",
       "  (e42): Conv2d(256, 256, kernel_size=(3, 3), stride=(1, 1), padding=(1, 1))\n",
       "  (maxpool4): MaxPool2d(kernel_size=2, stride=2, padding=0, dilation=1, ceil_mode=False)\n",
       "  (e51): Conv2d(256, 512, kernel_size=(3, 3), stride=(1, 1), padding=(1, 1))\n",
       "  (e52): Conv2d(512, 512, kernel_size=(3, 3), stride=(1, 1), padding=(1, 1))\n",
       "  (upconv1): ConvTranspose2d(512, 256, kernel_size=(2, 2), stride=(2, 2))\n",
       "  (d11): Conv2d(512, 256, kernel_size=(3, 3), stride=(1, 1), padding=(1, 1))\n",
       "  (d12): Conv2d(256, 256, kernel_size=(3, 3), stride=(1, 1), padding=(1, 1))\n",
       "  (upconv2): ConvTranspose2d(256, 128, kernel_size=(2, 2), stride=(2, 2))\n",
       "  (d21): Conv2d(256, 128, kernel_size=(3, 3), stride=(1, 1), padding=(1, 1))\n",
       "  (d22): Conv2d(128, 128, kernel_size=(3, 3), stride=(1, 1), padding=(1, 1))\n",
       "  (upconv3): ConvTranspose2d(128, 64, kernel_size=(2, 2), stride=(2, 2))\n",
       "  (d31): Conv2d(128, 64, kernel_size=(3, 3), stride=(1, 1), padding=(1, 1))\n",
       "  (d32): Conv2d(64, 64, kernel_size=(3, 3), stride=(1, 1), padding=(1, 1))\n",
       "  (upconv4): ConvTranspose2d(64, 32, kernel_size=(2, 2), stride=(2, 2))\n",
       "  (d41): Conv2d(64, 32, kernel_size=(3, 3), stride=(1, 1), padding=(1, 1))\n",
       "  (d42): Conv2d(32, 32, kernel_size=(3, 3), stride=(1, 1), padding=(1, 1))\n",
       "  (output): Conv2d(32, 1, kernel_size=(1, 1), stride=(1, 1))\n",
       ")"
      ]
     },
     "execution_count": 12,
     "metadata": {},
     "output_type": "execute_result"
    }
   ],
   "source": [
    "# Create an instance of UNet\n",
    "model = UNet(kernel_size, stride, padding)\n",
    "model.to(device)"
   ]
  },
  {
   "cell_type": "markdown",
   "metadata": {},
   "source": [
    "# Model Training"
   ]
  },
  {
   "cell_type": "code",
   "execution_count": null,
   "metadata": {},
   "outputs": [
    {
     "name": "stderr",
     "output_type": "stream",
     "text": [
      "/Library/Frameworks/Python.framework/Versions/3.11/lib/python3.11/site-packages/tqdm/auto.py:21: TqdmWarning: IProgress not found. Please update jupyter and ipywidgets. See https://ipywidgets.readthedocs.io/en/stable/user_install.html\n",
      "  from .autonotebook import tqdm as notebook_tqdm\n"
     ]
    },
    {
     "name": "stdout",
     "output_type": "stream",
     "text": [
      "Epoch 1/200 - Train Loss: 2.4593 - Validation Loss: 1.2341\n",
      "Validation loss improved. Best model updated.\n",
      "Epoch 2/200 - Train Loss: 0.7500 - Validation Loss: 0.5606\n",
      "Validation loss improved. Best model updated.\n",
      "Epoch 3/200 - Train Loss: 0.5532 - Validation Loss: 0.5509\n",
      "Validation loss improved. Best model updated.\n",
      "Epoch 4/200 - Train Loss: 0.5444 - Validation Loss: 0.5510\n",
      "No improvement for 1 epoch(s).\n"
     ]
    },
    {
     "name": "stderr",
     "output_type": "stream",
     "text": [
      "/Library/Frameworks/Python.framework/Versions/3.11/lib/python3.11/site-packages/torch/utils/data/dataloader.py:643: UserWarning: Length of IterableDataset <utils.TFRecordPyTorchDataset object at 0x13a25f410> was reported to be 124 (when accessing len(dataloader)), but 125 samples have been fetched. \n",
      "  warnings.warn(warn_msg)\n"
     ]
    },
    {
     "name": "stdout",
     "output_type": "stream",
     "text": [
      "Epoch 5/200 - Train Loss: 0.5463 - Validation Loss: 0.5587\n",
      "No improvement for 2 epoch(s).\n",
      "Epoch 6/200 - Train Loss: 0.5382 - Validation Loss: 0.5526\n",
      "No improvement for 3 epoch(s).\n",
      "Epoch 7/200 - Train Loss: 0.5391 - Validation Loss: 0.5502\n",
      "Validation loss improved. Best model updated.\n",
      "Epoch 8/200 - Train Loss: 0.5332 - Validation Loss: 0.5451\n",
      "Validation loss improved. Best model updated.\n",
      "Epoch 9/200 - Train Loss: 0.5281 - Validation Loss: 0.5418\n",
      "Validation loss improved. Best model updated.\n",
      "Epoch 10/200 - Train Loss: 0.5300 - Validation Loss: 0.5554\n",
      "No improvement for 1 epoch(s).\n",
      "Epoch 11/200 - Train Loss: 0.5275 - Validation Loss: 0.5511\n",
      "No improvement for 2 epoch(s).\n",
      "Epoch 12/200 - Train Loss: 0.5235 - Validation Loss: 0.5406\n",
      "Validation loss improved. Best model updated.\n",
      "Epoch 13/200 - Train Loss: 0.5249 - Validation Loss: 0.5435\n",
      "No improvement for 1 epoch(s).\n",
      "Epoch 14/200 - Train Loss: 0.5172 - Validation Loss: 0.5479\n",
      "No improvement for 2 epoch(s).\n",
      "Epoch 15/200 - Train Loss: 0.5146 - Validation Loss: 0.5439\n",
      "No improvement for 3 epoch(s).\n",
      "Epoch 16/200 - Train Loss: 0.5117 - Validation Loss: 0.5461\n",
      "No improvement for 4 epoch(s).\n",
      "Epoch 17/200 - Train Loss: 0.5099 - Validation Loss: 0.5375\n",
      "Validation loss improved. Best model updated.\n",
      "Epoch 18/200 - Train Loss: 0.5097 - Validation Loss: 0.5492\n",
      "No improvement for 1 epoch(s).\n",
      "Epoch 19/200 - Train Loss: 0.5026 - Validation Loss: 0.5353\n",
      "Validation loss improved. Best model updated.\n",
      "Epoch 20/200 - Train Loss: 0.5078 - Validation Loss: 0.5346\n",
      "Validation loss improved. Best model updated.\n",
      "Epoch 21/200 - Train Loss: 0.5038 - Validation Loss: 0.5433\n",
      "No improvement for 1 epoch(s).\n",
      "Epoch 22/200 - Train Loss: 0.4933 - Validation Loss: 0.5392\n",
      "No improvement for 2 epoch(s).\n",
      "Epoch 23/200 - Train Loss: 0.4934 - Validation Loss: 0.5408\n",
      "No improvement for 3 epoch(s).\n"
     ]
    }
   ],
   "source": [
    "# Train UNET\n",
    "best_val_loss = float('inf')\n",
    "epochs_no_improve = 0\n",
    "best_model_state = None\n",
    "best_model_filename = None\n",
    "\n",
    "# Define the optimizer and loss function\n",
    "optimizer = torch.optim.Adam(model.parameters(), lr=1e-4)\n",
    "criterion = BCEDiceLoss(bce_weight=0.5)\n",
    "\n",
    "# Train over the entire dataset every epoch\n",
    "for epoch in range(num_epochs):\n",
    "    model.train()\n",
    "    total_loss = 0\n",
    "\n",
    "    # Train in batches to improve efficiency\n",
    "    for batch in train_loader:\n",
    "        optimizer.zero_grad(set_to_none=True)\n",
    "        images, true_mask = batch\n",
    "        images = images.to(device)\n",
    "        true_mask = true_mask.to(device)\n",
    "\n",
    "        # Make predictions on the training images\n",
    "        pred_mask = model(images)\n",
    "\n",
    "        # Calculate the loss and take an optimization step based on the predictions\n",
    "        loss = 0\n",
    "        loss += criterion(pred_mask, true_mask)\n",
    "        loss.backward()\n",
    "        optimizer.step()\n",
    "        total_loss += loss.item()\n",
    "\n",
    "    # Average the loss over all batches\n",
    "    avg_loss = total_loss / len(train_loader)\n",
    "\n",
    "    # Now, validate the model\n",
    "    model.eval()\n",
    "    val_loss = 0\n",
    "\n",
    "    # Gradients are not used as validation is used to find the best model without further optimization\n",
    "    with torch.no_grad():\n",
    "        # Validate in batches\n",
    "        for batch in val_loader:\n",
    "            images, true_mask = batch\n",
    "            images = images.to(device)\n",
    "            true_mask = true_mask.to(device)\n",
    "            \n",
    "            # Make predictions on the validation images\n",
    "            pred_mask = model(images)\n",
    "\n",
    "            # Calculate the loss\n",
    "            loss = 0\n",
    "            loss += criterion(pred_mask, true_mask)\n",
    "            val_loss += loss.item()\n",
    "    \n",
    "    # Average the validation loss over all batches\n",
    "    avg_val_loss = val_loss / len(val_loader)\n",
    "    \n",
    "    print(f\"Epoch {epoch + 1}/{num_epochs} - Train Loss: {avg_loss:.4f} - Validation Loss: {avg_val_loss:.4f}\")\n",
    "\n",
    "    # Best model saving & early stopping\n",
    "    if avg_val_loss < best_val_loss:\n",
    "        best_val_loss = avg_val_loss\n",
    "        epochs_no_improve = 0\n",
    "        best_model_state = model.state_dict() \n",
    "        best_model_filename = f\"{folder_path}/best_model_{str(best_val_loss)}_{datetime.now().strftime('%Y%m%d_%H%M%S')}.pth\"\n",
    "        print(\"Validation loss improved. Best model updated.\")\n",
    "    else:\n",
    "        epochs_no_improve += 1\n",
    "        print(f\"No improvement for {epochs_no_improve} epoch(s).\")\n",
    "    \n",
    "    if epochs_no_improve >= patience:\n",
    "        print(\"Early stopping triggered!\")\n",
    "        break\n",
    "\n",
    "        "
   ]
  },
  {
   "cell_type": "code",
   "execution_count": 13,
   "metadata": {},
   "outputs": [
    {
     "name": "stdout",
     "output_type": "stream",
     "text": [
      "Best model saved to ./gen_models/best_model_27.718893954628392_20250426_202626.pth\n"
     ]
    }
   ],
   "source": [
    "# save the best model\n",
    "if best_model_state is not None:\n",
    "    torch.save(best_model_state, best_model_filename)\n",
    "    print(f\"Best model saved to {best_model_filename}\")"
   ]
  },
  {
   "cell_type": "markdown",
   "metadata": {},
   "source": [
    "# Model Testing"
   ]
  },
  {
   "cell_type": "code",
   "execution_count": 14,
   "metadata": {},
   "outputs": [
    {
     "name": "stdout",
     "output_type": "stream",
     "text": [
      "\n",
      " **Test Results:**\n",
      "Dice Coefficient: 0.0867\n",
      "IoU: 0.0453\n",
      "Recall: 0.0782\n"
     ]
    }
   ],
   "source": [
    "# test UNET\n",
    "model.load_state_dict(torch.load(best_model_filename, map_location=device))\n",
    "model.eval()\n",
    "\n",
    "# Create arrays to store all predictions and all ground truth masks\n",
    "pred_mask_all, true_mask_all = [], []\n",
    "\n",
    "with torch.no_grad():\n",
    "    for batch in testloader:\n",
    "        images, true_mask = batch\n",
    "        images = images.to(device)\n",
    "        true_mask = true_mask.to(device)\n",
    "\n",
    "        # Make test predictions\n",
    "        pred_mask = model(images)\n",
    "\n",
    "        pred_mask_all.append(pred_mask.cpu().numpy())\n",
    "        true_mask_all.append(true_mask.cpu().numpy())\n",
    "\n",
    "    # Concatenate all batches into a single array for performance                        \n",
    "    preds = np.concatenate(pred_mask_all, axis=0)   \n",
    "    trues = np.concatenate(true_mask_all, axis=0)        \n",
    "\n",
    "    # Squeeze from 4 dimensions into 3 since we use only one channel\n",
    "    if preds.ndim == 4 and preds.shape[1] == 1:\n",
    "        preds = preds.squeeze(1)\n",
    "        trues = trues.squeeze(1)\n",
    "\n",
    "    # Binarize predictions\n",
    "    preds  = (preds > 0.5).astype(np.uint8)\n",
    "    trues  = trues.astype(np.uint8)\n",
    "\n",
    "    preds = preds.flatten()\n",
    "    trues = trues.flatten()\n",
    "\n",
    "    # Calculate TP, FP, FN for evaluation metrics\n",
    "    tp = np.logical_and(preds==1, trues==1).sum()\n",
    "    fp = np.logical_and(preds==1, trues==0).sum()\n",
    "    fn = np.logical_and(preds==0, trues==1).sum()\n",
    "\n",
    "    # Calculate evaluation metrics\n",
    "    smooth = 1e-6\n",
    "    dice = (2*tp + smooth) / (2*tp + fp + fn + smooth)\n",
    "    iou  = (tp + smooth)   / (tp + fp + fn + smooth)\n",
    "    recall = tp / (tp + fn + smooth)\n",
    "\n",
    "                             \n",
    "    # Dice coefficient\n",
    "    # IoU (Jaccard Index)\n",
    "    # Recall - We care a lot about false negatives\n",
    "    metrics = {\n",
    "        'Dice Coefficient': dice,\n",
    "        'IoU': iou,\n",
    "        'Recall': recall\n",
    "        }\n",
    "    \n",
    "    print(\"\\n **Test Results:**\")\n",
    "    for key, value in metrics.items():\n",
    "        print(f\"{key}: {value:.4f}\")"
   ]
  }
 ],
 "metadata": {
  "kernelspec": {
   "display_name": "Python 3",
   "language": "python",
   "name": "python3"
  },
  "language_info": {
   "codemirror_mode": {
    "name": "ipython",
    "version": 3
   },
   "file_extension": ".py",
   "mimetype": "text/x-python",
   "name": "python",
   "nbconvert_exporter": "python",
   "pygments_lexer": "ipython3",
   "version": "3.11.0"
  }
 },
 "nbformat": 4,
 "nbformat_minor": 2
}
