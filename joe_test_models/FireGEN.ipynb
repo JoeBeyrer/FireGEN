{
 "cells": [
  {
   "cell_type": "code",
   "execution_count": 13,
   "metadata": {},
   "outputs": [],
   "source": [
    "from utils import *\n",
    "from models import *\n",
    "from loss import *\n",
    "import numpy as np\n",
    "import os\n",
    "import matplotlib.pyplot as plt\n",
    "from matplotlib import colors\n",
    "from datetime import datetime"
   ]
  },
  {
   "cell_type": "code",
   "execution_count": 14,
   "metadata": {},
   "outputs": [],
   "source": [
    "train_path = '../next_day_fires/next_day_wildfire_spread_train*'\n",
    "val_path = '../next_day_fires/next_day_wildfire_spread_eval*'\n",
    "test_path = '../next_day_fires/next_day_wildfire_spread_test*'\n",
    "features = ['elevation', 'th', 'vs',  'tmmn', 'tmmx', 'sph', 'pr', 'pdsi', 'NDVI', 'population', 'erc', 'PrevFireMask', 'FireMask']"
   ]
  },
  {
   "cell_type": "markdown",
   "metadata": {},
   "source": [
    "# Load Data"
   ]
  },
  {
   "cell_type": "markdown",
   "metadata": {},
   "source": [
    "## Training Data"
   ]
  },
  {
   "cell_type": "code",
   "execution_count": 15,
   "metadata": {},
   "outputs": [
    {
     "name": "stdout",
     "output_type": "stream",
     "text": [
      "torch.Size([100, 12, 32, 32])\n",
      "torch.Size([100, 1, 32, 32])\n"
     ]
    }
   ],
   "source": [
    "train_dataset = get_dataset(\n",
    "      train_path,\n",
    "      data_size=64,\n",
    "      sample_size=32,\n",
    "      batch_size=100,\n",
    "      num_in_channels=12,\n",
    "      compression_type=None,\n",
    "      clip_and_normalize=False,\n",
    "      clip_and_rescale=False,\n",
    "      random_crop=True,\n",
    "      center_crop=False)\n",
    "\n",
    "train_inputs, train_labels = next(iter(train_dataset))\n",
    "\n",
    "print(train_inputs.shape)\n",
    "print(train_labels.shape)"
   ]
  },
  {
   "cell_type": "code",
   "execution_count": 16,
   "metadata": {},
   "outputs": [],
   "source": [
    "titles = [\n",
    "  'Elevation',\n",
    "  'Wind\\ndirection',\n",
    "  'Wind\\nvelocity',\n",
    "  'Min\\ntemp',\n",
    "  'Max\\ntemp',\n",
    "  'Humidity',\n",
    "  'Precip',\n",
    "  'Drought',\n",
    "  'Vegetation',\n",
    "  'Population\\ndensity',\n",
    "  'Energy\\nrelease\\ncomponent',\n",
    "  'Previous\\nfire\\nmask',\n",
    "  'Fire\\nmask'\n",
    "]\n",
    "\n",
    "n_rows = 5\n",
    "n_features = train_inputs.shape[3] \n",
    "CMAP = colors.ListedColormap(['black', 'silver', 'orangered'])\n",
    "BOUNDS = [-1, -0.1, 0.001, 1]\n",
    "NORM = colors.BoundaryNorm(BOUNDS, CMAP.N)\n",
    "keys = ['elevation', 'th', 'vs',  'tmmn', 'tmmx', 'sph', 'pr', 'pdsi', 'NDVI', 'population', 'erc', 'PrevFireMask']"
   ]
  },
  {
   "cell_type": "code",
   "execution_count": 17,
   "metadata": {},
   "outputs": [],
   "source": [
    "# fig = plt.figure(figsize=(20,8))\n",
    "\n",
    "# for i in range(n_rows):\n",
    "#   for j in range(n_features + 1):\n",
    "#     plt.subplot(n_rows, n_features + 1, i * (n_features + 1) + j + 1)\n",
    "#     if i == 0:\n",
    "#       plt.title(titles[j], fontsize=15)\n",
    "#     if j < n_features - 1:\n",
    "#       plt.imshow(train_inputs[i, j, :, :], cmap='viridis')\n",
    "#     if j == n_features - 1:\n",
    "#       plt.imshow(train_inputs[i, -1, :, :], cmap=CMAP, norm=NORM)\n",
    "#     if j == n_features:\n",
    "#       plt.imshow(train_labels[i, 0, :, :], cmap=CMAP, norm=NORM) \n",
    "#     plt.axis('off')\n",
    "# plt.tight_layout()"
   ]
  },
  {
   "cell_type": "markdown",
   "metadata": {},
   "source": [
    "## Vlidation Data"
   ]
  },
  {
   "cell_type": "code",
   "execution_count": 18,
   "metadata": {},
   "outputs": [
    {
     "name": "stdout",
     "output_type": "stream",
     "text": [
      "torch.Size([100, 12, 32, 32])\n",
      "torch.Size([100, 1, 32, 32])\n"
     ]
    }
   ],
   "source": [
    "val_dataset = get_dataset(\n",
    "      val_path,\n",
    "      data_size=64,\n",
    "      sample_size=32,\n",
    "      batch_size=100,\n",
    "      num_in_channels=12,\n",
    "      compression_type=None,\n",
    "      clip_and_normalize=False,\n",
    "      clip_and_rescale=False,\n",
    "      random_crop=True,\n",
    "      center_crop=False)\n",
    "\n",
    "val_inputs, val_labels = next(iter(val_dataset))\n",
    "\n",
    "print(val_inputs.shape)\n",
    "print(val_labels.shape)"
   ]
  },
  {
   "cell_type": "markdown",
   "metadata": {},
   "source": [
    "## Test Data"
   ]
  },
  {
   "cell_type": "code",
   "execution_count": 19,
   "metadata": {},
   "outputs": [
    {
     "name": "stdout",
     "output_type": "stream",
     "text": [
      "torch.Size([100, 12, 32, 32])\n",
      "torch.Size([100, 1, 32, 32])\n"
     ]
    }
   ],
   "source": [
    "test_dataset = get_dataset(\n",
    "      test_path,\n",
    "      data_size=64,\n",
    "      sample_size=32,\n",
    "      batch_size=100,\n",
    "      num_in_channels=12,\n",
    "      compression_type=None,\n",
    "      clip_and_normalize=False,\n",
    "      clip_and_rescale=False,\n",
    "      random_crop=True,\n",
    "      center_crop=False)\n",
    "\n",
    "test_inputs, test_labels = next(iter(val_dataset))\n",
    "\n",
    "print(test_inputs.shape)\n",
    "print(test_labels.shape)"
   ]
  },
  {
   "cell_type": "code",
   "execution_count": 20,
   "metadata": {},
   "outputs": [],
   "source": [
    "# Build DataLoader\n",
    "train_loader = DataLoader(train_dataset, batch_size=None, num_workers=0, pin_memory=True)\n",
    "val_loader = DataLoader(val_dataset, batch_size=None, num_workers=0, pin_memory=True)\n",
    "test_loader = DataLoader(test_dataset, batch_size=None, num_workers=0, pin_memory=True)"
   ]
  },
  {
   "cell_type": "markdown",
   "metadata": {},
   "source": [
    "# Model Initialization"
   ]
  },
  {
   "cell_type": "code",
   "execution_count": 21,
   "metadata": {},
   "outputs": [],
   "source": [
    "folder_path = './models'\n",
    "gen_input_channels = 12\n",
    "disc_input_channels = 13\n",
    "device = torch.device(\"cuda\" if torch.cuda.is_available() else \"cpu\")"
   ]
  },
  {
   "cell_type": "markdown",
   "metadata": {},
   "source": [
    "### Hyperparameters"
   ]
  },
  {
   "cell_type": "code",
   "execution_count": 22,
   "metadata": {},
   "outputs": [],
   "source": [
    "#  Hyperparameters\n",
    "kernel_size = 4 # DO NOT CHANGE\n",
    "stride = 2 # DO NOT CHANGE\n",
    "padding = 1 # DO NOT CHANGE\n",
    "dropout = 0.5\n",
    "l1_lambd = 0.001 # Regularization lambda for regularization\n",
    "gen_lr = 1e-4\n",
    "disc_lr = 4e-4\n",
    "\n",
    "num_epochs = 200\n",
    "patience = 50\n"
   ]
  },
  {
   "cell_type": "markdown",
   "metadata": {},
   "source": [
    "### Model Initialization"
   ]
  },
  {
   "cell_type": "code",
   "execution_count": 23,
   "metadata": {},
   "outputs": [
    {
     "data": {
      "text/plain": [
       "Discriminator(\n",
       "  (e1): Conv2d(13, 64, kernel_size=(4, 4), stride=(2, 2), padding=(1, 1), bias=False)\n",
       "  (lr1): LeakyReLU(negative_slope=0.2)\n",
       "  (e2): Conv2d(64, 128, kernel_size=(4, 4), stride=(2, 2), padding=(1, 1), bias=False)\n",
       "  (eb2): BatchNorm2d(128, eps=1e-05, momentum=0.1, affine=True, track_running_stats=True)\n",
       "  (lr2): LeakyReLU(negative_slope=0.2)\n",
       "  (e3): Conv2d(128, 256, kernel_size=(4, 4), stride=(2, 2), padding=(1, 1), bias=False)\n",
       "  (eb3): BatchNorm2d(256, eps=1e-05, momentum=0.1, affine=True, track_running_stats=True)\n",
       "  (lr3): LeakyReLU(negative_slope=0.2)\n",
       "  (e4): Conv2d(256, 512, kernel_size=(4, 4), stride=(2, 2), padding=(1, 1), bias=False)\n",
       "  (eb4): BatchNorm2d(512, eps=1e-05, momentum=0.1, affine=True, track_running_stats=True)\n",
       "  (lr4): LeakyReLU(negative_slope=0.2)\n",
       "  (output): Conv2d(512, 1, kernel_size=(4, 4), stride=(1, 1), padding=(1, 1))\n",
       ")"
      ]
     },
     "execution_count": 23,
     "metadata": {},
     "output_type": "execute_result"
    }
   ],
   "source": [
    "generator = Generator(gen_input_channels, kernel_size, stride, padding, dropout)\n",
    "discriminator = Discriminator(disc_input_channels, kernel_size, stride, padding)\n",
    "\n",
    "generator.apply(init_weights)\n",
    "discriminator.apply(init_weights)\n",
    "\n",
    "generator.to(device)\n",
    "discriminator.to(device)"
   ]
  },
  {
   "cell_type": "code",
   "execution_count": null,
   "metadata": {},
   "outputs": [],
   "source": []
  },
  {
   "cell_type": "markdown",
   "metadata": {},
   "source": [
    "# Model Training"
   ]
  },
  {
   "cell_type": "code",
   "execution_count": null,
   "metadata": {},
   "outputs": [
    {
     "name": "stdout",
     "output_type": "stream",
     "text": [
      "Epoch 1/200          \n",
      "   - Generator Train Loss: 0.7387 - Generator Validation Loss: 0.6688          \n",
      "   - Discriminator Train Loss: 1.4681 - Discriminator Validation Loss: 1.3880\n",
      "Validation loss improved. Best model updated.\n"
     ]
    }
   ],
   "source": [
    "gen_best_val_loss = float('inf')\n",
    "epochs_no_improve = 0\n",
    "gen_best_model_state = None\n",
    "bgen_est_model_filename = None\n",
    "\n",
    "# Optimizers and loss functions\n",
    "gen_optimizer = torch.optim.Adam(generator.parameters(), lr=gen_lr, betas=(0.5, 0.999))\n",
    "disc_optimizer = torch.optim.Adam(discriminator.parameters(), lr=disc_lr, betas=(0.5, 0.999))\n",
    "gen_criterion = GenLoss(l1_lambd)\n",
    "disc_criterion = DiscLoss()\n",
    "torch.autograd.set_detect_anomaly(True)\n",
    "# Train over the entire dataset every epoch\n",
    "for epoch in range(num_epochs):\n",
    "    generator.train()\n",
    "    discriminator.train()\n",
    "    gen_total_loss = 0\n",
    "    disc_total_loss = 0\n",
    "\n",
    "    # Train in batches \n",
    "    for images, target in train_loader:\n",
    "        # Update Discriminator\n",
    "        disc_optimizer.zero_grad()\n",
    "\n",
    "        # Generate fake images\n",
    "        with torch.no_grad():\n",
    "            generated = generator(images)\n",
    "        generated_detached = generated.detach()\n",
    "\n",
    "        # Discriminator loss\n",
    "        real_pred = discriminator(target, images)\n",
    "        fake_pred = discriminator(generated_detached, images)\n",
    "        disc_loss = disc_criterion(real_pred, fake_pred)\n",
    "\n",
    "        disc_loss.backward()\n",
    "        disc_optimizer.step()\n",
    "\n",
    "        # Update generator\n",
    "        gen_optimizer.zero_grad()\n",
    "\n",
    "        # Re-forward generator\n",
    "        generated = generator(images)\n",
    "        gen_pred = discriminator(generated, images)\n",
    "        gen_loss = gen_criterion(gen_pred, generated, target)\n",
    "\n",
    "        gen_loss.backward()\n",
    "        gen_optimizer.step()\n",
    "\n",
    "        # Add loss to totals\n",
    "        gen_total_loss = gen_total_loss + gen_loss.item()\n",
    "        disc_total_loss = disc_total_loss + disc_loss.item()\n",
    "\n",
    "    # Average the loss over all batches\n",
    "    gen_avg_loss = gen_total_loss / len(train_loader)\n",
    "    disc_avg_loss = disc_total_loss / len(train_loader)\n",
    "\n",
    "\n",
    "    # Now, validate the model\n",
    "    generator.eval()\n",
    "    discriminator.eval()\n",
    "    gen_val_loss = 0\n",
    "    disc_val_loss = 0\n",
    "\n",
    "    # Gradients are not used as validation is used to find the best model without further optimization\n",
    "    with torch.no_grad():\n",
    "        # Validate in batches\n",
    "        for batch in val_loader:\n",
    "            images, target = batch\n",
    "            images = images.to(device)\n",
    "            target = target.to(device)\n",
    "            \n",
    "            # Make predictions on the validation images\n",
    "            generated = generator(images)\n",
    "            gen_pred = discriminator(generated, images)\n",
    "            real_pred = discriminator(target, images)\n",
    "\n",
    "            # Calculate the loss\n",
    "            gen_loss = gen_criterion(gen_pred, generated, target)\n",
    "            disc_loss = disc_criterion(real_pred, gen_pred)\n",
    "            gen_val_loss = gen_val_loss + gen_loss.item()\n",
    "            disc_val_loss = disc_val_loss + disc_loss.item()\n",
    "\n",
    "\n",
    "    \n",
    "    # Average the validation loss over all batches\n",
    "    gen_avg_val_loss = gen_val_loss / len(val_loader)\n",
    "    disc_avg_val_loss = disc_val_loss / len(val_loader)\n",
    "    \n",
    "    print(f\"Epoch {epoch + 1}/{num_epochs}\\\n",
    "          \\n   - Generator Train Loss: {gen_avg_loss:.4f} - Generator Validation Loss: {gen_avg_val_loss:.4f}\\\n",
    "          \\n   - Discriminator Train Loss: {disc_avg_loss:.4f} - Discriminator Validation Loss: {disc_avg_val_loss:.4f}\")\n",
    "\n",
    "    # Best model saving & early stopping\n",
    "    if gen_avg_val_loss < gen_best_val_loss:\n",
    "        gen_best_val_loss = gen_avg_val_loss\n",
    "        epochs_no_improve = 0\n",
    "        gen_best_model_state = generator.state_dict() \n",
    "        gen_best_model_filename = f\"{folder_path}/best_model_{str(gen_best_val_loss)}_{datetime.now().strftime('%Y%m%d_%H%M%S')}.pth\"\n",
    "        print(\"Validation loss improved. Best model updated.\")\n",
    "    else:\n",
    "        epochs_no_improve += 1\n",
    "        print(f\"No improvement for {epochs_no_improve} epoch(s).\")\n",
    "    \n",
    "    if epochs_no_improve >= patience:\n",
    "        print(\"Early stopping triggered!\")\n",
    "        break"
   ]
  }
 ],
 "metadata": {
  "kernelspec": {
   "display_name": "Python 3",
   "language": "python",
   "name": "python3"
  },
  "language_info": {
   "codemirror_mode": {
    "name": "ipython",
    "version": 3
   },
   "file_extension": ".py",
   "mimetype": "text/x-python",
   "name": "python",
   "nbconvert_exporter": "python",
   "pygments_lexer": "ipython3",
   "version": "3.11.0"
  }
 },
 "nbformat": 4,
 "nbformat_minor": 2
}
