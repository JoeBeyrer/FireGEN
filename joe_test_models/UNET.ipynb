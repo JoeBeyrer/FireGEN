{
 "cells": [
  {
   "cell_type": "code",
   "execution_count": 202,
   "metadata": {},
   "outputs": [],
   "source": [
    "from utils import *\n",
    "from models import *\n",
    "from loss import *\n",
    "import numpy as np\n",
    "import os\n",
    "import matplotlib.pyplot as plt\n",
    "from matplotlib import colors\n",
    "from datetime import datetime\n",
    "from torch.nn.functional import leaky_relu, sigmoid"
   ]
  },
  {
   "cell_type": "code",
   "execution_count": 203,
   "metadata": {},
   "outputs": [],
   "source": [
    "train_path = '../next_day_fires/next_day_wildfire_spread_train*'\n",
    "val_path = '../next_day_fires/next_day_wildfire_spread_eval*'\n",
    "test_path = '../next_day_fires/next_day_wildfire_spread_test*'\n",
    "features = ['elevation', 'th', 'vs',  'tmmn', 'tmmx', 'sph', 'pr', 'pdsi', 'NDVI', 'population', 'erc', 'PrevFireMask', 'FireMask']"
   ]
  },
  {
   "cell_type": "markdown",
   "metadata": {},
   "source": [
    "# Load Data"
   ]
  },
  {
   "cell_type": "markdown",
   "metadata": {},
   "source": [
    "## Training Data"
   ]
  },
  {
   "cell_type": "code",
   "execution_count": 204,
   "metadata": {},
   "outputs": [
    {
     "name": "stdout",
     "output_type": "stream",
     "text": [
      "torch.Size([64, 12, 32, 32])\n",
      "torch.Size([64, 1, 32, 32])\n"
     ]
    }
   ],
   "source": [
    "train_dataset = get_dataset(\n",
    "      train_path,\n",
    "      data_size=64,\n",
    "      sample_size=32,\n",
    "      batch_size=64,\n",
    "      num_in_channels=12,\n",
    "      compression_type=None,\n",
    "      clip_and_normalize=False,\n",
    "      clip_and_rescale=False,\n",
    "      random_crop=True,\n",
    "      center_crop=False)\n",
    "\n",
    "train_inputs, train_labels = next(iter(train_dataset))\n",
    "\n",
    "print(train_inputs.shape)\n",
    "print(train_labels.shape)"
   ]
  },
  {
   "cell_type": "code",
   "execution_count": 205,
   "metadata": {},
   "outputs": [],
   "source": [
    "titles = [\n",
    "  'Elevation',\n",
    "  'Wind\\ndirection',\n",
    "  'Wind\\nvelocity',\n",
    "  'Min\\ntemp',\n",
    "  'Max\\ntemp',\n",
    "  'Humidity',\n",
    "  'Precip',\n",
    "  'Drought',\n",
    "  'Vegetation',\n",
    "  'Population\\ndensity',\n",
    "  'Energy\\nrelease\\ncomponent',\n",
    "  'Previous\\nfire\\nmask',\n",
    "  'Fire\\nmask'\n",
    "]\n",
    "\n",
    "n_rows = 5\n",
    "n_features = train_inputs.shape[3] \n",
    "CMAP = colors.ListedColormap(['black', 'silver', 'orangered'])\n",
    "BOUNDS = [-1, -0.1, 0.001, 1]\n",
    "NORM = colors.BoundaryNorm(BOUNDS, CMAP.N)\n",
    "keys = ['elevation', 'th', 'vs',  'tmmn', 'tmmx', 'sph', 'pr', 'pdsi', 'NDVI', 'population', 'erc', 'PrevFireMask']"
   ]
  },
  {
   "cell_type": "code",
   "execution_count": 206,
   "metadata": {},
   "outputs": [],
   "source": [
    "# fig = plt.figure(figsize=(20,8))\n",
    "\n",
    "# for i in range(n_rows):\n",
    "#   for j in range(n_features + 1):\n",
    "#     plt.subplot(n_rows, n_features + 1, i * (n_features + 1) + j + 1)\n",
    "#     if i == 0:\n",
    "#       plt.title(titles[j], fontsize=15)\n",
    "#     if j < n_features - 1:\n",
    "#       plt.imshow(train_inputs[i, j, :, :], cmap='viridis')\n",
    "#     if j == n_features - 1:\n",
    "#       plt.imshow(train_inputs[i, -1, :, :], cmap=CMAP, norm=NORM)\n",
    "#     if j == n_features:\n",
    "#       plt.imshow(train_labels[i, 0, :, :], cmap=CMAP, norm=NORM) \n",
    "#     plt.axis('off')\n",
    "# plt.tight_layout()"
   ]
  },
  {
   "cell_type": "markdown",
   "metadata": {},
   "source": [
    "## Vlidation Data"
   ]
  },
  {
   "cell_type": "code",
   "execution_count": 207,
   "metadata": {},
   "outputs": [
    {
     "name": "stdout",
     "output_type": "stream",
     "text": [
      "torch.Size([64, 12, 32, 32])\n",
      "torch.Size([64, 1, 32, 32])\n"
     ]
    }
   ],
   "source": [
    "val_dataset = get_dataset(\n",
    "      val_path,\n",
    "      data_size=64,\n",
    "      sample_size=32,\n",
    "      batch_size=64,\n",
    "      num_in_channels=12,\n",
    "      compression_type=None,\n",
    "      clip_and_normalize=False,\n",
    "      clip_and_rescale=False,\n",
    "      random_crop=True,\n",
    "      center_crop=False)\n",
    "\n",
    "val_inputs, val_labels = next(iter(val_dataset))\n",
    "\n",
    "print(val_inputs.shape)\n",
    "print(val_labels.shape)"
   ]
  },
  {
   "cell_type": "markdown",
   "metadata": {},
   "source": [
    "## Test Data"
   ]
  },
  {
   "cell_type": "code",
   "execution_count": 208,
   "metadata": {},
   "outputs": [
    {
     "name": "stdout",
     "output_type": "stream",
     "text": [
      "torch.Size([64, 12, 32, 32])\n",
      "torch.Size([64, 1, 32, 32])\n"
     ]
    }
   ],
   "source": [
    "test_dataset = get_dataset(\n",
    "      test_path,\n",
    "      data_size=64,\n",
    "      sample_size=32,\n",
    "      batch_size=64,\n",
    "      num_in_channels=12,\n",
    "      compression_type=None,\n",
    "      clip_and_normalize=False,\n",
    "      clip_and_rescale=False,\n",
    "      random_crop=True,\n",
    "      center_crop=False)\n",
    "\n",
    "test_inputs, test_labels = next(iter(val_dataset))\n",
    "\n",
    "print(test_inputs.shape)\n",
    "print(test_labels.shape)"
   ]
  },
  {
   "cell_type": "code",
   "execution_count": 209,
   "metadata": {},
   "outputs": [],
   "source": [
    "# Build DataLoader\n",
    "train_loader = DataLoader(train_dataset, batch_size=None, num_workers=0, pin_memory=True)\n",
    "val_loader = DataLoader(val_dataset, batch_size=None, num_workers=0, pin_memory=True)\n",
    "test_loader = DataLoader(test_dataset, batch_size=None, num_workers=0, pin_memory=True)"
   ]
  },
  {
   "cell_type": "markdown",
   "metadata": {},
   "source": [
    "# Model Initialization"
   ]
  },
  {
   "cell_type": "code",
   "execution_count": null,
   "metadata": {},
   "outputs": [],
   "source": [
    "class UNet(nn.Module):\n",
    "    def __init__(self, kernel_size, stride, padding):\n",
    "        super().__init__()\n",
    "\n",
    "        # First we need to make the Encoder\n",
    "        # There are 5 Encoder modules, each consisting of two convolution encoder layers to \n",
    "        # increase the number of channels and a maxpooling layer to downsample\n",
    "        self.e11 = nn.Conv2d(12, 32, kernel_size=kernel_size, stride=stride, padding=padding)\n",
    "        self.eb11 = nn.BatchNorm2d(32)\n",
    "        self.e12 = nn.Conv2d(32, 32, kernel_size=kernel_size, stride=stride, padding=padding)\n",
    "        self.eb12 = nn.BatchNorm2d(32)\n",
    "        self.maxpool1 = nn.MaxPool2d(kernel_size=2, stride=2)\n",
    "\n",
    "        self.e21 = nn.Conv2d(32, 64, kernel_size=kernel_size, stride=stride, padding=padding)\n",
    "        self.eb21 = nn.BatchNorm2d(64)\n",
    "        self.e22 = nn.Conv2d(64, 64, kernel_size=kernel_size, stride=stride, padding=padding)\n",
    "        self.eb22 = nn.BatchNorm2d(64)\n",
    "        self.maxpool2 = nn.MaxPool2d(kernel_size=2, stride=2)\n",
    "\n",
    "        self.e31 = nn.Conv2d(64, 128, kernel_size=kernel_size, stride=stride, padding=padding)\n",
    "        self.eb31 = nn.BatchNorm2d(128)\n",
    "        self.e32 = nn.Conv2d(128, 128, kernel_size=kernel_size, stride=stride, padding=padding)\n",
    "        self.eb32 = nn.BatchNorm2d(128)\n",
    "        self.maxpool3 = nn.MaxPool2d(kernel_size=2, stride=2)\n",
    "\n",
    "        self.e41 = nn.Conv2d(128, 256, kernel_size=kernel_size, stride=stride, padding=padding)\n",
    "        self.e42 = nn.Conv2d(256, 256, kernel_size=kernel_size, stride=stride, padding=padding)\n",
    "        # self.maxpool4 = nn.MaxPool2d(kernel_size=2, stride=2)\n",
    "\n",
    "        # self.e51 = nn.Conv2d(256, 512, kernel_size=kernel_size, stride=stride, padding=padding)\n",
    "        # self.e52 = nn.Conv2d(512, 512, kernel_size=kernel_size, stride=stride, padding=padding)\n",
    "        self.bb1 =nn.BatchNorm2d(256)\n",
    "        self.bb2 =nn.BatchNorm2d(256)\n",
    "\n",
    "        # self.upconv1 = nn.ConvTranspose2d(512, 256, kernel_size=2, stride=2)\n",
    "        # self.d11 = nn.Conv2d(512, 256, kernel_size=kernel_size, stride=stride, padding=padding)\n",
    "        # self.d12 = nn.Conv2d(256, 256, kernel_size=kernel_size, stride=stride, padding=padding)\n",
    "\n",
    "        self.upconv2 = nn.ConvTranspose2d(256, 128, kernel_size=2, stride=2)\n",
    "        self.db21 = nn.BatchNorm2d(128)\n",
    "        self.d21 = nn.Conv2d(256, 128, kernel_size=kernel_size, stride=stride, padding=padding)\n",
    "        self.db22 = nn.BatchNorm2d(128)\n",
    "        self.d22 = nn.Conv2d(128, 128, kernel_size=kernel_size, stride=stride, padding=padding)\n",
    "        self.db23 = nn.BatchNorm2d(128)\n",
    "\n",
    "        self.upconv3 = nn.ConvTranspose2d(128, 64, kernel_size=2, stride=2)\n",
    "        self.db31 = nn.BatchNorm2d(64)\n",
    "        self.d31 = nn.Conv2d(128, 64, kernel_size=kernel_size, stride=stride, padding=padding)\n",
    "        self.db32 = nn.BatchNorm2d(64)\n",
    "        self.d32 = nn.Conv2d(64, 64, kernel_size=kernel_size, stride=stride, padding=padding)\n",
    "        self.eb33 = nn.BatchNorm2d(64)\n",
    "\n",
    "        self.upconv4 = nn.ConvTranspose2d(64, 32, kernel_size=2, stride=2)\n",
    "        self.db41 = nn.BatchNorm2d(32)\n",
    "        self.d41 = nn.Conv2d(64, 32, kernel_size=kernel_size, stride=stride, padding=padding)\n",
    "        self.db42 = nn.BatchNorm2d(32)\n",
    "        self.d42 = nn.Conv2d(32, 32, kernel_size=kernel_size, stride=stride, padding=padding)\n",
    "        self.db43 = nn.BatchNorm2d(32)\n",
    "\n",
    "\n",
    "        # Finally, we use a final output layer to create a single channel prediction\n",
    "        self.output = nn.Conv2d(32, 1, kernel_size=1)\n",
    "\n",
    "\n",
    "    def forward(self, x):\n",
    "        # Encoder\n",
    "        e11 = leaky_relu(self.eb11(self.e11(x)))\n",
    "        e12 = leaky_relu(self.eb12(self.e12(e11)))\n",
    "        maxpool1 = self.maxpool1(e12)\n",
    "\n",
    "        e21 = leaky_relu(self.eb21(self.e21(maxpool1)))\n",
    "        e22 = leaky_relu(self.eb22(self.e22(e21)))\n",
    "        maxpool2 = self.maxpool2(e22)\n",
    "\n",
    "        e31 = leaky_relu(self.eb31(self.e31(maxpool2)))\n",
    "        e32 = leaky_relu(self.eb32(self.e32(e31)))\n",
    "        maxpool3 = self.maxpool3(e32)\n",
    "\n",
    "        e41 = leaky_relu(self.bb1(self.e41(maxpool3)))\n",
    "        e42 = leaky_relu(self.bb2(self.e42(e41)))\n",
    "\n",
    "        # Decoder\n",
    "        upconv2 = leaky_relu(self.upconv2(e42))\n",
    "        upconv2 = torch.cat([upconv2, e32], dim=1)\n",
    "        d21 = leaky_relu(self.db21(self.d21(upconv2)))\n",
    "        d22 = leaky_relu(self.db22(self.d22(d21)))\n",
    "        d22 = self.db23(d22)\n",
    "\n",
    "        upconv3 = leaky_relu(self.upconv3(d22))\n",
    "        upconv3 = torch.cat([upconv3, e22], dim=1)\n",
    "        d31 = leaky_relu(self.db31(self.d31(upconv3)))\n",
    "        d32 = leaky_relu(self.db32(self.d32(d31)))\n",
    "        d32 = self.eb33(d32)\n",
    "\n",
    "        upconv4 = leaky_relu(self.upconv4(d32))\n",
    "        upconv4 = torch.cat([upconv4, e12], dim=1)\n",
    "        d41 = leaky_relu(self.db41(self.d41(upconv4)))\n",
    "        d42 = leaky_relu(self.db42(self.d42(d41)))\n",
    "        d42 = self.db43(d42)\n",
    "\n",
    "        # Output layer\n",
    "        out = self.output(d42)\n",
    "        out = sigmoid(out)\n",
    "\n",
    "        return out"
   ]
  },
  {
   "cell_type": "markdown",
   "metadata": {},
   "source": [
    "### Hyperparameters"
   ]
  },
  {
   "cell_type": "code",
   "execution_count": 211,
   "metadata": {},
   "outputs": [
    {
     "data": {
      "text/plain": [
       "device(type='cuda')"
      ]
     },
     "execution_count": 211,
     "metadata": {},
     "output_type": "execute_result"
    }
   ],
   "source": [
    "# parameter setup\n",
    "folder_path = './UNET_models'\n",
    "\n",
    "kernel_size = 3\n",
    "stride = 1\n",
    "padding = 1\n",
    "\n",
    "num_epochs = 25\n",
    "patience = 10\n",
    "\n",
    "pos_weight = 25\n",
    "bce_weight = 0.5 # Coefficient for Binary Cross Entropy loss in loss function\n",
    "\n",
    "device = torch.device(\"cuda\" if torch.cuda.is_available() else \"cpu\")\n",
    "device"
   ]
  },
  {
   "cell_type": "markdown",
   "metadata": {},
   "source": [
    "### Loss Function"
   ]
  },
  {
   "cell_type": "code",
   "execution_count": 212,
   "metadata": {},
   "outputs": [],
   "source": [
    "# Loss function setup\n",
    "# Create a class for Dice Loss\n",
    "class DiceLoss(nn.Module):\n",
    "    # Initializing the loss function will require a smoothing parameter to prevent division by zero \n",
    "    def __init__(self, smooth=1e-6):\n",
    "        super(DiceLoss, self).__init__()\n",
    "        self.smooth = smooth\n",
    "    \n",
    "    # The loss function is defined in a forward pass as 2*(intersection)/(pred + true)\n",
    "    def forward(self, pred, true):\n",
    "        pred = pred.view(-1)\n",
    "        true = true.view(-1)\n",
    "        intersection = (pred*true).sum()\n",
    "        dice = (2*intersection + self.smooth) / (pred.sum() + true.sum() + self.smooth)\n",
    "        return 1 - dice\n",
    "\n",
    "# Create a class for BCE Loss\n",
    "class BCEDiceLoss(nn.Module):\n",
    "    # Initializing the loss function will require a BCE weight parameter to determine the weigth of each loss \n",
    "    def __init__(self, bce_weight=0.5, pos_weight=30):\n",
    "        super().__init__()\n",
    "        # Declare both loss functions\n",
    "        pos_weight = torch.tensor([pos_weight]).to(device)\n",
    "        self.bce = nn.BCEWithLogitsLoss(pos_weight=pos_weight)\n",
    "        self.dice = DiceLoss()\n",
    "        self.bce_weight = bce_weight\n",
    "\n",
    "    # The loss function is defined by taking the weighted sum of BCE Loss and Dice Loss\n",
    "    def forward(self, pred, true):\n",
    "        bce_loss = self.bce(pred, true)\n",
    "        dice_loss = self.dice(pred, true)\n",
    "        return bce_weight * bce_loss #+ (1-bce_weight) * dice_loss"
   ]
  },
  {
   "cell_type": "markdown",
   "metadata": {},
   "source": [
    "### Model Initialization"
   ]
  },
  {
   "cell_type": "code",
   "execution_count": 213,
   "metadata": {},
   "outputs": [
    {
     "data": {
      "text/plain": [
       "UNet(\n",
       "  (e11): Conv2d(12, 32, kernel_size=(3, 3), stride=(1, 1), padding=(1, 1))\n",
       "  (eb11): BatchNorm2d(32, eps=1e-05, momentum=0.1, affine=True, track_running_stats=True)\n",
       "  (e12): Conv2d(32, 32, kernel_size=(3, 3), stride=(1, 1), padding=(1, 1))\n",
       "  (eb12): BatchNorm2d(32, eps=1e-05, momentum=0.1, affine=True, track_running_stats=True)\n",
       "  (maxpool1): MaxPool2d(kernel_size=2, stride=2, padding=0, dilation=1, ceil_mode=False)\n",
       "  (e21): Conv2d(32, 64, kernel_size=(3, 3), stride=(1, 1), padding=(1, 1))\n",
       "  (eb21): BatchNorm2d(64, eps=1e-05, momentum=0.1, affine=True, track_running_stats=True)\n",
       "  (e22): Conv2d(64, 64, kernel_size=(3, 3), stride=(1, 1), padding=(1, 1))\n",
       "  (eb22): BatchNorm2d(64, eps=1e-05, momentum=0.1, affine=True, track_running_stats=True)\n",
       "  (maxpool2): MaxPool2d(kernel_size=2, stride=2, padding=0, dilation=1, ceil_mode=False)\n",
       "  (e31): Conv2d(64, 128, kernel_size=(3, 3), stride=(1, 1), padding=(1, 1))\n",
       "  (eb31): BatchNorm2d(128, eps=1e-05, momentum=0.1, affine=True, track_running_stats=True)\n",
       "  (e32): Conv2d(128, 128, kernel_size=(3, 3), stride=(1, 1), padding=(1, 1))\n",
       "  (eb32): BatchNorm2d(128, eps=1e-05, momentum=0.1, affine=True, track_running_stats=True)\n",
       "  (maxpool3): MaxPool2d(kernel_size=2, stride=2, padding=0, dilation=1, ceil_mode=False)\n",
       "  (e41): Conv2d(128, 256, kernel_size=(3, 3), stride=(1, 1), padding=(1, 1))\n",
       "  (e42): Conv2d(256, 256, kernel_size=(3, 3), stride=(1, 1), padding=(1, 1))\n",
       "  (upconv2): ConvTranspose2d(256, 128, kernel_size=(2, 2), stride=(2, 2))\n",
       "  (db21): BatchNorm2d(128, eps=1e-05, momentum=0.1, affine=True, track_running_stats=True)\n",
       "  (d21): Conv2d(256, 128, kernel_size=(3, 3), stride=(1, 1), padding=(1, 1))\n",
       "  (db22): BatchNorm2d(128, eps=1e-05, momentum=0.1, affine=True, track_running_stats=True)\n",
       "  (d22): Conv2d(128, 128, kernel_size=(3, 3), stride=(1, 1), padding=(1, 1))\n",
       "  (db23): BatchNorm2d(128, eps=1e-05, momentum=0.1, affine=True, track_running_stats=True)\n",
       "  (upconv3): ConvTranspose2d(128, 64, kernel_size=(2, 2), stride=(2, 2))\n",
       "  (db31): BatchNorm2d(64, eps=1e-05, momentum=0.1, affine=True, track_running_stats=True)\n",
       "  (d31): Conv2d(128, 64, kernel_size=(3, 3), stride=(1, 1), padding=(1, 1))\n",
       "  (db32): BatchNorm2d(64, eps=1e-05, momentum=0.1, affine=True, track_running_stats=True)\n",
       "  (d32): Conv2d(64, 64, kernel_size=(3, 3), stride=(1, 1), padding=(1, 1))\n",
       "  (eb33): BatchNorm2d(64, eps=1e-05, momentum=0.1, affine=True, track_running_stats=True)\n",
       "  (upconv4): ConvTranspose2d(64, 32, kernel_size=(2, 2), stride=(2, 2))\n",
       "  (db41): BatchNorm2d(32, eps=1e-05, momentum=0.1, affine=True, track_running_stats=True)\n",
       "  (d41): Conv2d(64, 32, kernel_size=(3, 3), stride=(1, 1), padding=(1, 1))\n",
       "  (db42): BatchNorm2d(32, eps=1e-05, momentum=0.1, affine=True, track_running_stats=True)\n",
       "  (d42): Conv2d(32, 32, kernel_size=(3, 3), stride=(1, 1), padding=(1, 1))\n",
       "  (db43): BatchNorm2d(32, eps=1e-05, momentum=0.1, affine=True, track_running_stats=True)\n",
       "  (output): Conv2d(32, 1, kernel_size=(1, 1), stride=(1, 1))\n",
       ")"
      ]
     },
     "execution_count": 213,
     "metadata": {},
     "output_type": "execute_result"
    }
   ],
   "source": [
    "# Create an instance of UNet\n",
    "model = UNet(kernel_size, stride, padding)\n",
    "model.to(device)"
   ]
  },
  {
   "cell_type": "markdown",
   "metadata": {},
   "source": [
    "# Model Training"
   ]
  },
  {
   "cell_type": "code",
   "execution_count": 214,
   "metadata": {},
   "outputs": [
    {
     "name": "stdout",
     "output_type": "stream",
     "text": [
      "Epoch 1/25 - Train Loss: 0.5948 - Validation Loss: 0.6244\n",
      "Validation loss improved. Best model updated.\n",
      "Epoch 2/25 - Train Loss: 0.5787 - Validation Loss: 0.6288\n",
      "No improvement for 1 epoch(s).\n",
      "Epoch 3/25 - Train Loss: 0.5691 - Validation Loss: 0.6064\n",
      "Validation loss improved. Best model updated.\n",
      "Epoch 4/25 - Train Loss: 0.5644 - Validation Loss: 0.6199\n",
      "No improvement for 1 epoch(s).\n",
      "Epoch 5/25 - Train Loss: 0.5596 - Validation Loss: 0.6117\n",
      "No improvement for 2 epoch(s).\n",
      "Epoch 6/25 - Train Loss: 0.5544 - Validation Loss: 0.6350\n",
      "No improvement for 3 epoch(s).\n",
      "Epoch 7/25 - Train Loss: 0.5488 - Validation Loss: 0.6043\n",
      "Validation loss improved. Best model updated.\n"
     ]
    },
    {
     "name": "stderr",
     "output_type": "stream",
     "text": [
      "c:\\Users\\joebe\\anaconda3\\Lib\\site-packages\\torch\\utils\\data\\dataloader.py:718: UserWarning: Length of IterableDataset <utils.TFRecordPyTorchDataset object at 0x00000269F3532720> was reported to be 194(when accessing len(dataloader)), but 195 samples have been fetched. \n",
      "  warnings.warn(warn_msg)\n"
     ]
    },
    {
     "name": "stdout",
     "output_type": "stream",
     "text": [
      "Epoch 8/25 - Train Loss: 0.5501 - Validation Loss: 0.5841\n",
      "Validation loss improved. Best model updated.\n",
      "Epoch 9/25 - Train Loss: 0.5456 - Validation Loss: 0.6020\n",
      "No improvement for 1 epoch(s).\n",
      "Epoch 10/25 - Train Loss: 0.5439 - Validation Loss: 0.6113\n",
      "No improvement for 2 epoch(s).\n",
      "Epoch 11/25 - Train Loss: 0.5408 - Validation Loss: 0.6028\n",
      "No improvement for 3 epoch(s).\n",
      "Epoch 12/25 - Train Loss: 0.5367 - Validation Loss: 0.6045\n",
      "No improvement for 4 epoch(s).\n",
      "Epoch 13/25 - Train Loss: 0.5357 - Validation Loss: 0.5968\n",
      "No improvement for 5 epoch(s).\n",
      "Epoch 14/25 - Train Loss: 0.5355 - Validation Loss: 0.6116\n",
      "No improvement for 6 epoch(s).\n",
      "Epoch 15/25 - Train Loss: 0.5353 - Validation Loss: 0.6004\n",
      "No improvement for 7 epoch(s).\n",
      "Epoch 16/25 - Train Loss: 0.5371 - Validation Loss: 0.6078\n",
      "No improvement for 8 epoch(s).\n",
      "Epoch 17/25 - Train Loss: 0.5342 - Validation Loss: 0.6062\n",
      "No improvement for 9 epoch(s).\n",
      "Epoch 18/25 - Train Loss: 0.5338 - Validation Loss: 0.6196\n",
      "No improvement for 10 epoch(s).\n",
      "Early stopping triggered!\n"
     ]
    }
   ],
   "source": [
    "# Train UNET\n",
    "best_val_loss = float('inf')\n",
    "epochs_no_improve = 0\n",
    "best_model_state = None\n",
    "best_model_filename = None\n",
    "\n",
    "# Define the optimizer and loss function\n",
    "optimizer = torch.optim.Adam(model.parameters(), lr=1e-4)\n",
    "criterion = BCEDiceLoss(bce_weight=0.5, pos_weight=pos_weight)\n",
    "\n",
    "# Train over the entire dataset every epoch\n",
    "for epoch in range(num_epochs):\n",
    "    model.train()\n",
    "    total_loss = 0\n",
    "\n",
    "    # Train in batches to improve efficiency\n",
    "    for batch in train_loader:\n",
    "        optimizer.zero_grad(set_to_none=True)\n",
    "        images, true_mask = batch\n",
    "        images = images.to(device)\n",
    "        true_mask = true_mask.to(device)\n",
    "\n",
    "        # Make predictions on the training images\n",
    "        pred_mask = model(images)\n",
    "\n",
    "        # Calculate the loss and take an optimization step based on the predictions\n",
    "        loss = 0\n",
    "        loss += criterion(pred_mask, true_mask)\n",
    "        loss.backward()\n",
    "        optimizer.step()\n",
    "        total_loss += loss.item()\n",
    "\n",
    "    # Average the loss over all batches\n",
    "    avg_loss = total_loss / len(train_loader)\n",
    "\n",
    "    # Now, validate the model\n",
    "    model.eval()\n",
    "    val_loss = 0\n",
    "\n",
    "    # Gradients are not used as validation is used to find the best model without further optimization\n",
    "    with torch.no_grad():\n",
    "        # Validate in batches\n",
    "        for batch in val_loader:\n",
    "            images, true_mask = batch\n",
    "            images = images.to(device)\n",
    "            true_mask = true_mask.to(device)\n",
    "            \n",
    "            # Make predictions on the validation images\n",
    "            pred_mask = model(images)\n",
    "\n",
    "            # Calculate the loss\n",
    "            loss = 0\n",
    "            loss += criterion(pred_mask, true_mask)\n",
    "            val_loss += loss.item()\n",
    "    \n",
    "    # Average the validation loss over all batches\n",
    "    avg_val_loss = val_loss / len(val_loader)\n",
    "    \n",
    "    print(f\"Epoch {epoch + 1}/{num_epochs} - Train Loss: {avg_loss:.4f} - Validation Loss: {avg_val_loss:.4f}\")\n",
    "\n",
    "    # Best model saving & early stopping\n",
    "    if avg_val_loss < best_val_loss:\n",
    "        best_val_loss = avg_val_loss\n",
    "        epochs_no_improve = 0\n",
    "        best_model_state = model.state_dict() \n",
    "        best_model_filename = f\"{folder_path}/best_model_{str(best_val_loss)}_{datetime.now().strftime('%Y%m%d_%H%M%S')}.pth\"\n",
    "        print(\"Validation loss improved. Best model updated.\")\n",
    "    else:\n",
    "        epochs_no_improve += 1\n",
    "        print(f\"No improvement for {epochs_no_improve} epoch(s).\")\n",
    "    \n",
    "    if epochs_no_improve >= patience:\n",
    "        print(\"Early stopping triggered!\")\n",
    "        break\n",
    "\n",
    "        "
   ]
  },
  {
   "cell_type": "code",
   "execution_count": 215,
   "metadata": {},
   "outputs": [
    {
     "name": "stdout",
     "output_type": "stream",
     "text": [
      "Best model saved to ./UNET_models/best_model_0.5841112339496612_20250428_153516.pth\n"
     ]
    }
   ],
   "source": [
    "# save the best model\n",
    "os.makedirs('./UNET_models', exist_ok=True)\n",
    "if best_model_state is not None:\n",
    "    torch.save(best_model_state, best_model_filename)\n",
    "    print(f\"Best model saved to {best_model_filename}\")"
   ]
  },
  {
   "cell_type": "markdown",
   "metadata": {},
   "source": [
    "# Model Testing"
   ]
  },
  {
   "cell_type": "code",
   "execution_count": 221,
   "metadata": {},
   "outputs": [
    {
     "name": "stderr",
     "output_type": "stream",
     "text": [
      "C:\\Users\\joebe\\AppData\\Local\\Temp\\ipykernel_1356\\4058782732.py:2: FutureWarning: You are using `torch.load` with `weights_only=False` (the current default value), which uses the default pickle module implicitly. It is possible to construct malicious pickle data which will execute arbitrary code during unpickling (See https://github.com/pytorch/pytorch/blob/main/SECURITY.md#untrusted-models for more details). In a future release, the default value for `weights_only` will be flipped to `True`. This limits the functions that could be executed during unpickling. Arbitrary objects will no longer be allowed to be loaded via this mode unless they are explicitly allowlisted by the user via `torch.serialization.add_safe_globals`. We recommend you start setting `weights_only=True` for any use case where you don't have full control of the loaded file. Please open an issue on GitHub for any issues related to this experimental feature.\n",
      "  model.load_state_dict(torch.load(best_model_filename, map_location=device))\n"
     ]
    },
    {
     "name": "stdout",
     "output_type": "stream",
     "text": [
      "\n",
      " **Test Results:**\n",
      "Dice Coefficient: 0.1348\n",
      "IoU: 0.0723\n",
      "Recall: 0.1527\n"
     ]
    }
   ],
   "source": [
    "# test UNET\n",
    "model.load_state_dict(torch.load(best_model_filename, map_location=device))\n",
    "model.eval()\n",
    "\n",
    "# Create arrays to store all predictions and all ground truth masks\n",
    "pred_mask_all, true_mask_all = [], []\n",
    "\n",
    "with torch.no_grad():\n",
    "    for batch in test_loader:\n",
    "        images, true_mask = batch\n",
    "        images = images.to(device)\n",
    "        true_mask = true_mask.to(device)\n",
    "\n",
    "        # Make test predictions\n",
    "        pred_mask = model(images)\n",
    "\n",
    "        pred_mask_all.append(pred_mask.cpu().numpy())\n",
    "        true_mask_all.append(true_mask.cpu().numpy())\n",
    "\n",
    "    # Concatenate all batches into a single array for performance                        \n",
    "    preds = np.concatenate(pred_mask_all, axis=0)   \n",
    "    trues = np.concatenate(true_mask_all, axis=0)        \n",
    "\n",
    "    # Squeeze from 4 dimensions into 3 since we use only one channel\n",
    "    if preds.ndim == 4 and preds.shape[1] == 1:\n",
    "        preds = preds.squeeze(1)\n",
    "        trues = trues.squeeze(1)\n",
    "    \n",
    "    trues_copy = np.copy(trues)\n",
    "    preds_copy = np.copy(preds)\n",
    "\n",
    "    # Binarize predictions\n",
    "    preds  = (preds > 0.5).astype(np.uint8)\n",
    "    trues  = trues.astype(np.uint8)\n",
    "    preds = preds.flatten()\n",
    "    trues = trues.flatten()\n",
    "\n",
    "    # Calculate TP, FP, FN for evaluation metrics\n",
    "    tp = np.logical_and(preds==1, trues==1).sum()\n",
    "    fp = np.logical_and(preds==1, trues==0).sum()\n",
    "    fn = np.logical_and(preds==0, trues==1).sum()\n",
    "\n",
    "    # Calculate evaluation metrics\n",
    "    smooth = 1e-6\n",
    "    dice = (2*tp + smooth) / (2*tp + fp + fn + smooth)\n",
    "    iou  = (tp + smooth)   / (tp + fp + fn + smooth)\n",
    "    recall = tp / (tp + fn + smooth)\n",
    "\n",
    "                             \n",
    "    # Dice coefficient\n",
    "    # IoU (Jaccard Index)\n",
    "    # Recall - We care a lot about false negatives\n",
    "    metrics = {\n",
    "        'Dice Coefficient': dice,\n",
    "        'IoU': iou,\n",
    "        'Recall': recall\n",
    "        }\n",
    "    \n",
    "    print(\"\\n **Test Results:**\")\n",
    "    for key, value in metrics.items():\n",
    "        print(f\"{key}: {value:.4f}\")"
   ]
  },
  {
   "cell_type": "code",
   "execution_count": 222,
   "metadata": {},
   "outputs": [
    {
     "data": {
      "image/png": "[encoded data removed]",
      "text/plain": [
       "<Figure size 640x480 with 2 Axes>"
      ]
     },
     "metadata": {},
     "output_type": "display_data"
    }
   ],
   "source": [
    "np.unique(trues)\n",
    "plt.imshow(trues_copy[12], cmap='viridis')  # or cmap='gray' if you want grayscale\n",
    "plt.colorbar()  # optional, shows the scale\n",
    "plt.show()"
   ]
  },
  {
   "cell_type": "code",
   "execution_count": 223,
   "metadata": {},
   "outputs": [
    {
     "data": {
      "image/png": "[encoded data removed]",
      "text/plain": [
       "<Figure size 640x480 with 2 Axes>"
      ]
     },
     "metadata": {},
     "output_type": "display_data"
    }
   ],
   "source": [
    "plt.imshow(preds_copy[12], cmap='viridis')  # or cmap='gray' if you want grayscale\n",
    "plt.colorbar()  # optional, shows the scale\n",
    "plt.show()"
   ]
  },
  {
   "cell_type": "code",
   "execution_count": 219,
   "metadata": {},
   "outputs": [
    {
     "data": {
      "text/plain": [
       "54031"
      ]
     },
     "execution_count": 219,
     "metadata": {},
     "output_type": "execute_result"
    }
   ],
   "source": [
    "preds_copy.sum()"
   ]
  },
  {
   "cell_type": "code",
   "execution_count": 220,
   "metadata": {},
   "outputs": [
    {
     "data": {
      "text/plain": [
       "40872"
      ]
     },
     "execution_count": 220,
     "metadata": {},
     "output_type": "execute_result"
    }
   ],
   "source": [
    "trues.sum()"
   ]
  }
 ],
 "metadata": {
  "kernelspec": {
   "display_name": "base",
   "language": "python",
   "name": "python3"
  },
  "language_info": {
   "codemirror_mode": {
    "name": "ipython",
    "version": 3
   },
   "file_extension": ".py",
   "mimetype": "text/x-python",
   "name": "python",
   "nbconvert_exporter": "python",
   "pygments_lexer": "ipython3",
   "version": "3.12.3"
  }
 },
 "nbformat": 4,
 "nbformat_minor": 2
}
