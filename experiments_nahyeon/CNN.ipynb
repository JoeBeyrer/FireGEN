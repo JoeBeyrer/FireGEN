{
 "cells": [
  {
   "cell_type": "code",
   "execution_count": 1,
   "metadata": {},
   "outputs": [],
   "source": [
    "from utils import *\n",
    "from models import *\n",
    "from loss import *\n",
    "import numpy as np\n",
    "import os\n",
    "import matplotlib.pyplot as plt\n",
    "from matplotlib import colors\n",
    "from datetime import datetime"
   ]
  },
  {
   "cell_type": "code",
   "execution_count": 2,
   "metadata": {},
   "outputs": [],
   "source": [
    "train_path = '../next_day_fires/next_day_wildfire_spread_train*'\n",
    "val_path = '../next_day_fires/next_day_wildfire_spread_eval*'\n",
    "test_path = '../next_day_fires/next_day_wildfire_spread_test*'\n",
    "features = ['elevation', 'th', 'vs',  'tmmn', 'tmmx', 'sph', 'pr', 'pdsi', 'NDVI', 'population', 'erc', 'PrevFireMask', 'FireMask']"
   ]
  },
  {
   "cell_type": "markdown",
   "metadata": {},
   "source": [
    "# Load Data"
   ]
  },
  {
   "cell_type": "markdown",
   "metadata": {},
   "source": [
    "## Training Data"
   ]
  },
  {
   "cell_type": "code",
   "execution_count": 3,
   "metadata": {},
   "outputs": [
    {
     "name": "stdout",
     "output_type": "stream",
     "text": [
      "torch.Size([100, 12, 64, 64])\n",
      "torch.Size([100, 1, 64, 64])\n"
     ]
    }
   ],
   "source": [
    "train_dataset = get_dataset(\n",
    "      train_path,\n",
    "      data_size=64,\n",
    "      sample_size=64,\n",
    "      batch_size=100,\n",
    "      num_in_channels=12,\n",
    "      compression_type=None,\n",
    "      clip_and_normalize=False,\n",
    "      clip_and_rescale=False,\n",
    "      random_crop=True,\n",
    "      center_crop=False)\n",
    "\n",
    "train_inputs, train_labels = next(iter(train_dataset))\n",
    "\n",
    "print(train_inputs.shape)\n",
    "print(train_labels.shape)"
   ]
  },
  {
   "cell_type": "code",
   "execution_count": 4,
   "metadata": {},
   "outputs": [],
   "source": [
    "titles = [\n",
    "  'Elevation',\n",
    "  'Wind\\ndirection',\n",
    "  'Wind\\nvelocity',\n",
    "  'Min\\ntemp',\n",
    "  'Max\\ntemp',\n",
    "  'Humidity',\n",
    "  'Precip',\n",
    "  'Drought',\n",
    "  'Vegetation',\n",
    "  'Population\\ndensity',\n",
    "  'Energy\\nrelease\\ncomponent',\n",
    "  'Previous\\nfire\\nmask',\n",
    "  'Fire\\nmask'\n",
    "]\n",
    "\n",
    "n_rows = 5\n",
    "n_features = train_inputs.shape[3] \n",
    "CMAP = colors.ListedColormap(['black', 'silver', 'orangered'])\n",
    "BOUNDS = [-1, -0.1, 0.001, 1]\n",
    "NORM = colors.BoundaryNorm(BOUNDS, CMAP.N)\n",
    "keys = ['elevation', 'th', 'vs',  'tmmn', 'tmmx', 'sph', 'pr', 'pdsi', 'NDVI', 'population', 'erc', 'PrevFireMask']"
   ]
  },
  {
   "cell_type": "code",
   "execution_count": 5,
   "metadata": {},
   "outputs": [],
   "source": [
    "# fig = plt.figure(figsize=(20,8))\n",
    "\n",
    "# for i in range(n_rows):\n",
    "#   for j in range(n_features + 1):\n",
    "#     plt.subplot(n_rows, n_features + 1, i * (n_features + 1) + j + 1)\n",
    "#     if i == 0:\n",
    "#       plt.title(titles[j], fontsize=15)\n",
    "#     if j < n_features - 1:\n",
    "#       plt.imshow(train_inputs[i, j, :, :], cmap='viridis')\n",
    "#     if j == n_features - 1:\n",
    "#       plt.imshow(train_inputs[i, -1, :, :], cmap=CMAP, norm=NORM)\n",
    "#     if j == n_features:\n",
    "#       plt.imshow(train_labels[i, 0, :, :], cmap=CMAP, norm=NORM) \n",
    "#     plt.axis('off')\n",
    "# plt.tight_layout()"
   ]
  },
  {
   "cell_type": "markdown",
   "metadata": {},
   "source": [
    "## Vlidation Data"
   ]
  },
  {
   "cell_type": "code",
   "execution_count": 6,
   "metadata": {},
   "outputs": [
    {
     "name": "stdout",
     "output_type": "stream",
     "text": [
      "torch.Size([100, 12, 64, 64])\n",
      "torch.Size([100, 1, 64, 64])\n"
     ]
    }
   ],
   "source": [
    "val_dataset = get_dataset(\n",
    "      val_path,\n",
    "      data_size=64,\n",
    "      sample_size=64,\n",
    "      batch_size=100,\n",
    "      num_in_channels=12,\n",
    "      compression_type=None,\n",
    "      clip_and_normalize=False,\n",
    "      clip_and_rescale=False,\n",
    "      random_crop=True,\n",
    "      center_crop=False)\n",
    "\n",
    "val_inputs, val_labels = next(iter(val_dataset))\n",
    "\n",
    "print(val_inputs.shape)\n",
    "print(val_labels.shape)"
   ]
  },
  {
   "cell_type": "markdown",
   "metadata": {},
   "source": [
    "## Test Data"
   ]
  },
  {
   "cell_type": "code",
   "execution_count": 7,
   "metadata": {},
   "outputs": [
    {
     "name": "stdout",
     "output_type": "stream",
     "text": [
      "torch.Size([100, 12, 64, 64])\n",
      "torch.Size([100, 1, 64, 64])\n"
     ]
    }
   ],
   "source": [
    "test_dataset = get_dataset(\n",
    "      test_path,\n",
    "      data_size=64,\n",
    "      sample_size=64,\n",
    "      batch_size=100,\n",
    "      num_in_channels=12,\n",
    "      compression_type=None,\n",
    "      clip_and_normalize=False,\n",
    "      clip_and_rescale=False,\n",
    "      random_crop=True,\n",
    "      center_crop=False)\n",
    "\n",
    "test_inputs, test_labels = next(iter(val_dataset))\n",
    "\n",
    "print(test_inputs.shape)\n",
    "print(test_labels.shape)"
   ]
  },
  {
   "cell_type": "code",
   "execution_count": 8,
   "metadata": {},
   "outputs": [],
   "source": [
    "# Build DataLoader\n",
    "train_loader = DataLoader(train_dataset, batch_size=None, num_workers=0, pin_memory=True)\n",
    "val_loader = DataLoader(val_dataset, batch_size=None, num_workers=0, pin_memory=True)\n",
    "test_loader = DataLoader(test_dataset, batch_size=None, num_workers=0, pin_memory=True)"
   ]
  },
  {
   "cell_type": "markdown",
   "metadata": {},
   "source": [
    "# Model Initialization"
   ]
  },
  {
   "cell_type": "code",
   "execution_count": 9,
   "metadata": {},
   "outputs": [],
   "source": [
    "folder_path = './gen_models'\n",
    "gen_input_channels = 12\n",
    "disc_input_channels = 13\n",
    "device = torch.device(\"cuda\" if torch.cuda.is_available() else \"cpu\")"
   ]
  },
  {
   "cell_type": "code",
   "execution_count": 10,
   "metadata": {},
   "outputs": [],
   "source": [
    "# Loss function setup\n",
    "# Create a class for Dice Loss\n",
    "class DiceLoss(nn.Module):\n",
    "    # Initializing the loss function will require a smoothing parameter to prevent division by zero \n",
    "    def __init__(self, smooth=1e-6):\n",
    "        super(DiceLoss, self).__init__()\n",
    "        self.smooth = smooth\n",
    "    \n",
    "    # The loss function is defined in a forward pass as 2*(intersection)/(pred + true)\n",
    "    def forward(self, pred, true):\n",
    "        pred = pred.view(-1)\n",
    "        true = true.view(-1)\n",
    "        intersection = (pred*true).sum()\n",
    "        dice = (2*intersection + self.smooth) / (pred.sum() + true.sum() + self.smooth)\n",
    "        return 1 - dice\n",
    "\n",
    "# Create a class for BCE Loss\n",
    "class BCEDiceLoss(nn.Module):\n",
    "    # Initializing the loss function will require a BCE weight parameter to determine the weigth of each loss \n",
    "    def __init__(self, bce_weight=0.5):\n",
    "        super().__init__()\n",
    "        # Declare both loss functions\n",
    "        self.bce = nn.BCELoss()\n",
    "        self.dice = DiceLoss()\n",
    "        self.bce_weight = bce_weight\n",
    "\n",
    "    # The loss function is defined by taking the weighted sum of BCE Loss and Dice Loss\n",
    "    def forward(self, pred, true):\n",
    "        bce_loss = self.bce(pred, true)\n",
    "        dice_loss = self.dice(pred, true)\n",
    "        return self.bce_weight * bce_loss + (1-self.bce_weight) * dice_loss"
   ]
  },
  {
   "cell_type": "code",
   "execution_count": null,
   "metadata": {},
   "outputs": [
    {
     "ename": "RuntimeError",
     "evalue": "all elements of input should be between 0 and 1",
     "output_type": "error",
     "traceback": [
      "\u001b[1;31m---------------------------------------------------------------------------\u001b[0m",
      "\u001b[1;31mRuntimeError\u001b[0m                              Traceback (most recent call last)",
      "Cell \u001b[1;32mIn[15], line 135\u001b[0m\n\u001b[0;32m    132\u001b[0m best_state \u001b[38;5;241m=\u001b[39m \u001b[38;5;28;01mNone\u001b[39;00m\n\u001b[0;32m    134\u001b[0m \u001b[38;5;28;01mfor\u001b[39;00m epoch \u001b[38;5;129;01min\u001b[39;00m \u001b[38;5;28mrange\u001b[39m(\u001b[38;5;241m1\u001b[39m, epochs\u001b[38;5;241m+\u001b[39m\u001b[38;5;241m1\u001b[39m):\n\u001b[1;32m--> 135\u001b[0m     train_loss \u001b[38;5;241m=\u001b[39m \u001b[43mtrain_epoch\u001b[49m\u001b[43m(\u001b[49m\u001b[43mmodel\u001b[49m\u001b[43m,\u001b[49m\u001b[43m \u001b[49m\u001b[43mtrain_loader\u001b[49m\u001b[43m,\u001b[49m\u001b[43m \u001b[49m\u001b[43moptimizer\u001b[49m\u001b[43m,\u001b[49m\u001b[43m \u001b[49m\u001b[43mcriterion\u001b[49m\u001b[43m,\u001b[49m\u001b[43m \u001b[49m\u001b[43mdevice\u001b[49m\u001b[43m)\u001b[49m\n\u001b[0;32m    136\u001b[0m     val_loss   \u001b[38;5;241m=\u001b[39m eval_epoch(model, val_loader, criterion, device)\n\u001b[0;32m    137\u001b[0m     \u001b[38;5;28mprint\u001b[39m(\u001b[38;5;124mf\u001b[39m\u001b[38;5;124m'\u001b[39m\u001b[38;5;124mEpoch \u001b[39m\u001b[38;5;132;01m{\u001b[39;00mepoch\u001b[38;5;132;01m:\u001b[39;00m\u001b[38;5;124m02d\u001b[39m\u001b[38;5;132;01m}\u001b[39;00m\u001b[38;5;124m | Train Loss: \u001b[39m\u001b[38;5;132;01m{\u001b[39;00mtrain_loss\u001b[38;5;132;01m:\u001b[39;00m\u001b[38;5;124m.4f\u001b[39m\u001b[38;5;132;01m}\u001b[39;00m\u001b[38;5;124m | Val Loss: \u001b[39m\u001b[38;5;132;01m{\u001b[39;00mval_loss\u001b[38;5;132;01m:\u001b[39;00m\u001b[38;5;124m.4f\u001b[39m\u001b[38;5;132;01m}\u001b[39;00m\u001b[38;5;124m'\u001b[39m)\n",
      "Cell \u001b[1;32mIn[15], line 96\u001b[0m, in \u001b[0;36mtrain_epoch\u001b[1;34m(model, loader, optimizer, criterion, device)\u001b[0m\n\u001b[0;32m     94\u001b[0m optimizer\u001b[38;5;241m.\u001b[39mzero_grad()\n\u001b[0;32m     95\u001b[0m outputs \u001b[38;5;241m=\u001b[39m model(imgs)\n\u001b[1;32m---> 96\u001b[0m loss \u001b[38;5;241m=\u001b[39m \u001b[43mcriterion\u001b[49m\u001b[43m(\u001b[49m\u001b[43moutputs\u001b[49m\u001b[43m,\u001b[49m\u001b[43m \u001b[49m\u001b[43mtargets\u001b[49m\u001b[43m)\u001b[49m\n\u001b[0;32m     97\u001b[0m loss\u001b[38;5;241m.\u001b[39mbackward()\n\u001b[0;32m     98\u001b[0m optimizer\u001b[38;5;241m.\u001b[39mstep()\n",
      "File \u001b[1;32mc:\\Users\\user\\anaconda3\\lib\\site-packages\\torch\\nn\\modules\\module.py:1501\u001b[0m, in \u001b[0;36mModule._call_impl\u001b[1;34m(self, *args, **kwargs)\u001b[0m\n\u001b[0;32m   1496\u001b[0m \u001b[38;5;66;03m# If we don't have any hooks, we want to skip the rest of the logic in\u001b[39;00m\n\u001b[0;32m   1497\u001b[0m \u001b[38;5;66;03m# this function, and just call forward.\u001b[39;00m\n\u001b[0;32m   1498\u001b[0m \u001b[38;5;28;01mif\u001b[39;00m \u001b[38;5;129;01mnot\u001b[39;00m (\u001b[38;5;28mself\u001b[39m\u001b[38;5;241m.\u001b[39m_backward_hooks \u001b[38;5;129;01mor\u001b[39;00m \u001b[38;5;28mself\u001b[39m\u001b[38;5;241m.\u001b[39m_backward_pre_hooks \u001b[38;5;129;01mor\u001b[39;00m \u001b[38;5;28mself\u001b[39m\u001b[38;5;241m.\u001b[39m_forward_hooks \u001b[38;5;129;01mor\u001b[39;00m \u001b[38;5;28mself\u001b[39m\u001b[38;5;241m.\u001b[39m_forward_pre_hooks\n\u001b[0;32m   1499\u001b[0m         \u001b[38;5;129;01mor\u001b[39;00m _global_backward_pre_hooks \u001b[38;5;129;01mor\u001b[39;00m _global_backward_hooks\n\u001b[0;32m   1500\u001b[0m         \u001b[38;5;129;01mor\u001b[39;00m _global_forward_hooks \u001b[38;5;129;01mor\u001b[39;00m _global_forward_pre_hooks):\n\u001b[1;32m-> 1501\u001b[0m     \u001b[38;5;28;01mreturn\u001b[39;00m forward_call(\u001b[38;5;241m*\u001b[39margs, \u001b[38;5;241m*\u001b[39m\u001b[38;5;241m*\u001b[39mkwargs)\n\u001b[0;32m   1502\u001b[0m \u001b[38;5;66;03m# Do not call functions when jit is used\u001b[39;00m\n\u001b[0;32m   1503\u001b[0m full_backward_hooks, non_full_backward_hooks \u001b[38;5;241m=\u001b[39m [], []\n",
      "Cell \u001b[1;32mIn[10], line 29\u001b[0m, in \u001b[0;36mBCEDiceLoss.forward\u001b[1;34m(self, pred, true)\u001b[0m\n\u001b[0;32m     28\u001b[0m \u001b[38;5;28;01mdef\u001b[39;00m \u001b[38;5;21mforward\u001b[39m(\u001b[38;5;28mself\u001b[39m, pred, true):\n\u001b[1;32m---> 29\u001b[0m     bce_loss \u001b[38;5;241m=\u001b[39m \u001b[38;5;28;43mself\u001b[39;49m\u001b[38;5;241;43m.\u001b[39;49m\u001b[43mbce\u001b[49m\u001b[43m(\u001b[49m\u001b[43mpred\u001b[49m\u001b[43m,\u001b[49m\u001b[43m \u001b[49m\u001b[43mtrue\u001b[49m\u001b[43m)\u001b[49m\n\u001b[0;32m     30\u001b[0m     dice_loss \u001b[38;5;241m=\u001b[39m \u001b[38;5;28mself\u001b[39m\u001b[38;5;241m.\u001b[39mdice(pred, true)\n\u001b[0;32m     31\u001b[0m     \u001b[38;5;28;01mreturn\u001b[39;00m \u001b[38;5;28mself\u001b[39m\u001b[38;5;241m.\u001b[39mbce_weight \u001b[38;5;241m*\u001b[39m bce_loss \u001b[38;5;241m+\u001b[39m (\u001b[38;5;241m1\u001b[39m\u001b[38;5;241m-\u001b[39m\u001b[38;5;28mself\u001b[39m\u001b[38;5;241m.\u001b[39mbce_weight) \u001b[38;5;241m*\u001b[39m dice_loss\n",
      "File \u001b[1;32mc:\\Users\\user\\anaconda3\\lib\\site-packages\\torch\\nn\\modules\\module.py:1501\u001b[0m, in \u001b[0;36mModule._call_impl\u001b[1;34m(self, *args, **kwargs)\u001b[0m\n\u001b[0;32m   1496\u001b[0m \u001b[38;5;66;03m# If we don't have any hooks, we want to skip the rest of the logic in\u001b[39;00m\n\u001b[0;32m   1497\u001b[0m \u001b[38;5;66;03m# this function, and just call forward.\u001b[39;00m\n\u001b[0;32m   1498\u001b[0m \u001b[38;5;28;01mif\u001b[39;00m \u001b[38;5;129;01mnot\u001b[39;00m (\u001b[38;5;28mself\u001b[39m\u001b[38;5;241m.\u001b[39m_backward_hooks \u001b[38;5;129;01mor\u001b[39;00m \u001b[38;5;28mself\u001b[39m\u001b[38;5;241m.\u001b[39m_backward_pre_hooks \u001b[38;5;129;01mor\u001b[39;00m \u001b[38;5;28mself\u001b[39m\u001b[38;5;241m.\u001b[39m_forward_hooks \u001b[38;5;129;01mor\u001b[39;00m \u001b[38;5;28mself\u001b[39m\u001b[38;5;241m.\u001b[39m_forward_pre_hooks\n\u001b[0;32m   1499\u001b[0m         \u001b[38;5;129;01mor\u001b[39;00m _global_backward_pre_hooks \u001b[38;5;129;01mor\u001b[39;00m _global_backward_hooks\n\u001b[0;32m   1500\u001b[0m         \u001b[38;5;129;01mor\u001b[39;00m _global_forward_hooks \u001b[38;5;129;01mor\u001b[39;00m _global_forward_pre_hooks):\n\u001b[1;32m-> 1501\u001b[0m     \u001b[38;5;28;01mreturn\u001b[39;00m forward_call(\u001b[38;5;241m*\u001b[39margs, \u001b[38;5;241m*\u001b[39m\u001b[38;5;241m*\u001b[39mkwargs)\n\u001b[0;32m   1502\u001b[0m \u001b[38;5;66;03m# Do not call functions when jit is used\u001b[39;00m\n\u001b[0;32m   1503\u001b[0m full_backward_hooks, non_full_backward_hooks \u001b[38;5;241m=\u001b[39m [], []\n",
      "File \u001b[1;32mc:\\Users\\user\\anaconda3\\lib\\site-packages\\torch\\nn\\modules\\loss.py:619\u001b[0m, in \u001b[0;36mBCELoss.forward\u001b[1;34m(self, input, target)\u001b[0m\n\u001b[0;32m    618\u001b[0m \u001b[38;5;28;01mdef\u001b[39;00m \u001b[38;5;21mforward\u001b[39m(\u001b[38;5;28mself\u001b[39m, \u001b[38;5;28minput\u001b[39m: Tensor, target: Tensor) \u001b[38;5;241m-\u001b[39m\u001b[38;5;241m>\u001b[39m Tensor:\n\u001b[1;32m--> 619\u001b[0m     \u001b[38;5;28;01mreturn\u001b[39;00m \u001b[43mF\u001b[49m\u001b[38;5;241;43m.\u001b[39;49m\u001b[43mbinary_cross_entropy\u001b[49m\u001b[43m(\u001b[49m\u001b[38;5;28;43minput\u001b[39;49m\u001b[43m,\u001b[49m\u001b[43m \u001b[49m\u001b[43mtarget\u001b[49m\u001b[43m,\u001b[49m\u001b[43m \u001b[49m\u001b[43mweight\u001b[49m\u001b[38;5;241;43m=\u001b[39;49m\u001b[38;5;28;43mself\u001b[39;49m\u001b[38;5;241;43m.\u001b[39;49m\u001b[43mweight\u001b[49m\u001b[43m,\u001b[49m\u001b[43m \u001b[49m\u001b[43mreduction\u001b[49m\u001b[38;5;241;43m=\u001b[39;49m\u001b[38;5;28;43mself\u001b[39;49m\u001b[38;5;241;43m.\u001b[39;49m\u001b[43mreduction\u001b[49m\u001b[43m)\u001b[49m\n",
      "File \u001b[1;32mc:\\Users\\user\\anaconda3\\lib\\site-packages\\torch\\nn\\functional.py:3098\u001b[0m, in \u001b[0;36mbinary_cross_entropy\u001b[1;34m(input, target, weight, size_average, reduce, reduction)\u001b[0m\n\u001b[0;32m   3095\u001b[0m     new_size \u001b[38;5;241m=\u001b[39m _infer_size(target\u001b[38;5;241m.\u001b[39msize(), weight\u001b[38;5;241m.\u001b[39msize())\n\u001b[0;32m   3096\u001b[0m     weight \u001b[38;5;241m=\u001b[39m weight\u001b[38;5;241m.\u001b[39mexpand(new_size)\n\u001b[1;32m-> 3098\u001b[0m \u001b[38;5;28;01mreturn\u001b[39;00m \u001b[43mtorch\u001b[49m\u001b[38;5;241;43m.\u001b[39;49m\u001b[43m_C\u001b[49m\u001b[38;5;241;43m.\u001b[39;49m\u001b[43m_nn\u001b[49m\u001b[38;5;241;43m.\u001b[39;49m\u001b[43mbinary_cross_entropy\u001b[49m\u001b[43m(\u001b[49m\u001b[38;5;28;43minput\u001b[39;49m\u001b[43m,\u001b[49m\u001b[43m \u001b[49m\u001b[43mtarget\u001b[49m\u001b[43m,\u001b[49m\u001b[43m \u001b[49m\u001b[43mweight\u001b[49m\u001b[43m,\u001b[49m\u001b[43m \u001b[49m\u001b[43mreduction_enum\u001b[49m\u001b[43m)\u001b[49m\n",
      "\u001b[1;31mRuntimeError\u001b[0m: all elements of input should be between 0 and 1"
     ]
    }
   ],
   "source": [
    "import torch\n",
    "import torch.nn as nn\n",
    "import torch.nn.functional as F\n",
    "from torch.utils.data import DataLoader, TensorDataset\n",
    "\n",
    "# --- Model 정의 (이전과 동일) ---\n",
    "class MultiKernelCNN(nn.Module):\n",
    "    def __init__(self, in_channels=12):\n",
    "        super().__init__()\n",
    "        # Encoder: B1~B5\n",
    "        self.b1_conv3 = nn.Conv2d(in_channels, 16, kernel_size=3, padding=1)\n",
    "        self.b1_conv5 = nn.Conv2d(in_channels, 16, kernel_size=5, padding=2)\n",
    "        self.b1_conv7 = nn.Conv2d(in_channels, 16, kernel_size=7, padding=3)\n",
    "        self.b1_pool  = nn.MaxPool2d(2)\n",
    "\n",
    "        self.b2_conv3 = nn.Conv2d(16*3, 32, kernel_size=3, padding=1)\n",
    "        self.b2_conv5 = nn.Conv2d(16*3, 32, kernel_size=5, padding=2)\n",
    "        self.b2_conv7 = nn.Conv2d(16*3, 32, kernel_size=7, padding=3)\n",
    "        self.b2_pool  = nn.MaxPool2d(2)\n",
    "\n",
    "        self.b3_conv3 = nn.Conv2d(32*3, 64, kernel_size=3, padding=1)\n",
    "        self.b3_conv5 = nn.Conv2d(32*3, 64, kernel_size=5, padding=2)\n",
    "        self.b3_conv7 = nn.Conv2d(32*3, 64, kernel_size=7, padding=3)\n",
    "        self.b3_pool  = nn.MaxPool2d(2)\n",
    "\n",
    "        self.b4_conv3 = nn.Conv2d(64*3, 128, kernel_size=3, padding=1)\n",
    "        self.b4_conv5 = nn.Conv2d(64*3, 128, kernel_size=5, padding=2)\n",
    "        self.b4_conv7 = nn.Conv2d(64*3, 128, kernel_size=7, padding=3)\n",
    "        self.b4_pool  = nn.MaxPool2d(2)\n",
    "\n",
    "        self.b5_conv3 = nn.Conv2d(128*3, 256, kernel_size=3, padding=1)\n",
    "        self.b5_conv5 = nn.Conv2d(128*3, 256, kernel_size=5, padding=2)\n",
    "        self.b5_conv7 = nn.Conv2d(128*3, 256, kernel_size=7, padding=3)\n",
    "        self.b5_pool  = nn.MaxPool2d(2)\n",
    "\n",
    "        # Decoder: B6(flatten) + B7\n",
    "        # B5 출력: (batch, 768, 2, 2)\n",
    "        self.flat_dim = 256*3*2*2  # = 3072\n",
    "        self.fc1 = nn.Linear(self.flat_dim, 128)\n",
    "        self.drop1 = nn.Dropout(0.5)\n",
    "        self.fc2 = nn.Linear(128, 256)\n",
    "        self.drop2 = nn.Dropout(0.5)\n",
    "        self.fc3 = nn.Linear(256, 4096)\n",
    "\n",
    "    def forward(self, x):\n",
    "        # B1\n",
    "        c3 = F.relu(self.b1_conv3(x))\n",
    "        c5 = F.relu(self.b1_conv5(x))\n",
    "        c7 = F.relu(self.b1_conv7(x))\n",
    "        x  = self.b1_pool(torch.cat([c3, c5, c7], dim=1))\n",
    "        # B2\n",
    "        c3 = F.relu(self.b2_conv3(x))\n",
    "        c5 = F.relu(self.b2_conv5(x))\n",
    "        c7 = F.relu(self.b2_conv7(x))\n",
    "        x  = self.b2_pool(torch.cat([c3, c5, c7], dim=1))\n",
    "        # B3\n",
    "        c3 = F.relu(self.b3_conv3(x))\n",
    "        c5 = F.relu(self.b3_conv5(x))\n",
    "        c7 = F.relu(self.b3_conv7(x))\n",
    "        x  = self.b3_pool(torch.cat([c3, c5, c7], dim=1))\n",
    "        # B4\n",
    "        c3 = F.relu(self.b4_conv3(x))\n",
    "        c5 = F.relu(self.b4_conv5(x))\n",
    "        c7 = F.relu(self.b4_conv7(x))\n",
    "        x  = self.b4_pool(torch.cat([c3, c5, c7], dim=1))\n",
    "        # B5\n",
    "        c3 = F.relu(self.b5_conv3(x))\n",
    "        c5 = F.relu(self.b5_conv5(x))\n",
    "        c7 = F.relu(self.b5_conv7(x))\n",
    "        x  = self.b5_pool(torch.cat([c3, c5, c7], dim=1))\n",
    "\n",
    "        # Flatten (B6)\n",
    "        x = x.reshape(x.size(0), -1)\n",
    "\n",
    "        # Decoder (B7)\n",
    "        x = F.relu(self.fc1(x))\n",
    "        x = self.drop1(x)\n",
    "        x = F.relu(self.fc2(x))\n",
    "        x = self.drop2(x)\n",
    "        x = F.relu(self.fc3(x))\n",
    "\n",
    "        # Reshape to (batch, 1, 64, 64)\n",
    "        x = x.contiguous().view(-1, 1, 64, 64)\n",
    "        x = F.sigmoid(x)\n",
    "\n",
    "        return x\n",
    "\n",
    "\n",
    "# --- 학습/검증 함수 ---\n",
    "def train_epoch(model, loader, optimizer, criterion, device):\n",
    "    model.train()\n",
    "    total_loss = 0.0\n",
    "    for imgs, targets in loader:\n",
    "        imgs, targets = imgs.to(device), targets.to(device)\n",
    "        optimizer.zero_grad()\n",
    "        outputs = model(imgs)\n",
    "        loss = criterion(outputs, targets)\n",
    "        loss.backward()\n",
    "        optimizer.step()\n",
    "        total_loss += loss.item() * imgs.size(0)\n",
    "    return total_loss / len(loader.dataset)\n",
    "\n",
    "def eval_epoch(model, loader, criterion, device):\n",
    "    model.eval()\n",
    "    total_loss = 0.0\n",
    "    with torch.no_grad():\n",
    "        for imgs, targets in loader:\n",
    "            imgs, targets = imgs.to(device), targets.to(device)\n",
    "            outputs = model(imgs)\n",
    "            loss = criterion(outputs, targets)\n",
    "            total_loss += loss.item() * imgs.size(0)\n",
    "    return total_loss / len(loader.dataset)\n",
    "\n",
    "\n",
    "if __name__ == '__main__':\n",
    "    # 하이퍼파라미터\n",
    "    batch_size = 16\n",
    "    lr = 1e-3\n",
    "    epochs = 500\n",
    "    patience = 100  # EarlyStopping patience\n",
    "    #device = torch.device('cuda' if torch.cuda.is_available() else 'cpu')\n",
    "    device = \"cpu\"\n",
    "\n",
    "    # 모델/옵티마이저/손실함수\n",
    "    model = MultiKernelCNN(in_channels=12).to(device)\n",
    "    optimizer = torch.optim.Adam(model.parameters(), lr=lr)\n",
    "    #criterion = nn.BCEWithLogitsLoss()\n",
    "    criterion = BCEDiceLoss()\n",
    "\n",
    "    # EarlyStopping 준비\n",
    "    best_val_loss = float('inf')\n",
    "    best_epoch = 0\n",
    "    best_state = None\n",
    "\n",
    "    for epoch in range(1, epochs+1):\n",
    "        train_loss = train_epoch(model, train_loader, optimizer, criterion, device)\n",
    "        val_loss   = eval_epoch(model, val_loader, criterion, device)\n",
    "        print(f'Epoch {epoch:02d} | Train Loss: {train_loss:.4f} | Val Loss: {val_loss:.4f}')\n",
    "\n",
    "        # 검증 손실 개선 시 best model 갱신\n",
    "        if val_loss < best_val_loss:\n",
    "            best_val_loss = val_loss\n",
    "            best_epoch = epoch\n",
    "            best_state = model.state_dict()  # state 저장\n",
    "            print(f'  → New best model at epoch {epoch} (Val Loss: {val_loss:.4f})')\n",
    "        # patience 초과 시 조기 종료\n",
    "        elif epoch - best_epoch >= patience:\n",
    "            print(f'No improvement for {patience} epochs. Early stopping.')\n",
    "            break\n",
    "\n",
    "    # 학습 완료 후 best model state 저장\n",
    "    save_path = 'best_multikernel_cnn.pth'\n",
    "    torch.save(best_state, save_path)\n",
    "    print(f'Best model (epoch {best_epoch}) saved to \"{save_path}\"')\n"
   ]
  },
  {
   "cell_type": "markdown",
   "metadata": {},
   "source": [
    "# Model Testing"
   ]
  },
  {
   "cell_type": "code",
   "execution_count": null,
   "metadata": {},
   "outputs": [
    {
     "name": "stdout",
     "output_type": "stream",
     "text": [
      "\n",
      "** Test Results **\n",
      "Dice Coefficient: 0.0000\n",
      "IoU: 0.0000\n",
      "Recall: 0.0000\n"
     ]
    }
   ],
   "source": [
    "import numpy as np\n",
    "import torch\n",
    "\n",
    "# 1) 저장해 둔 best model state 불러오기\n",
    "model = MultiKernelCNN(in_channels=12).to(device)\n",
    "model.load_state_dict(torch.load(save_path, map_location=device))\n",
    "model.eval()\n",
    "\n",
    "# 2) 예측 및 GT 저장용 리스트\n",
    "pred_mask_all, target_all = [], []\n",
    "\n",
    "with torch.no_grad():\n",
    "    for batch in test_loader:\n",
    "        images, target = batch\n",
    "        images = images.to(device)\n",
    "        target = target.to(device)\n",
    "\n",
    "        # 모델로 예측\n",
    "        pred_mask = model(images)  # (B,1,64,64)\n",
    "\n",
    "        # CPU numpy로 변환\n",
    "        pred_mask_all.append(pred_mask.cpu().numpy())\n",
    "        target_all.append(target.cpu().numpy())\n",
    "\n",
    "# 3) 배치 단위로 쌓기\n",
    "preds = np.concatenate(pred_mask_all, axis=0)   # (N,1,64,64)\n",
    "trues = np.concatenate(target_all,    axis=0)   # (N,1,64,64)\n",
    "\n",
    "# 4) 채널 차원 제거 → (N,64,64)\n",
    "if preds.ndim == 4 and preds.shape[1] == 1:\n",
    "    preds = preds.squeeze(1)\n",
    "    trues = trues.squeeze(1)\n",
    "\n",
    "# 5) 이진화\n",
    "preds = (preds > 0.5).astype(np.uint8)\n",
    "trues = trues.astype(np.uint8)\n",
    "\n",
    "# 6) 1차원으로 평탄화\n",
    "preds = preds.flatten()\n",
    "trues = trues.flatten()\n",
    "\n",
    "# 7) TP, FP, FN 계산\n",
    "tp = np.logical_and(preds == 1, trues == 1).sum()\n",
    "fp = np.logical_and(preds == 1, trues == 0).sum()\n",
    "fn = np.logical_and(preds == 0, trues == 1).sum()\n",
    "\n",
    "# 8) 평가 지표 계산\n",
    "smooth = 1e-6\n",
    "dice   = (2 * tp + smooth) / (2 * tp + fp + fn + smooth)\n",
    "iou    = (tp + smooth)     / (tp + fp + fn + smooth)\n",
    "recall = tp / (tp + fn + smooth)\n",
    "\n",
    "metrics = {\n",
    "    'Dice Coefficient': dice,\n",
    "    'IoU':              iou,\n",
    "    'Recall':           recall\n",
    "}\n",
    "\n",
    "# 9) 결과 출력\n",
    "print(\"\\n** Test Results **\")\n",
    "for name, val in metrics.items():\n",
    "    print(f\"{name}: {val:.4f}\")\n"
   ]
  },
  {
   "cell_type": "code",
   "execution_count": null,
   "metadata": {},
   "outputs": [
    {
     "data": {
      "image/png": "[encoded data removed]",
      "text/plain": [
       "<Figure size 640x480 with 2 Axes>"
      ]
     },
     "metadata": {},
     "output_type": "display_data"
    },
    {
     "data": {
      "text/plain": [
       "array([[1.5523713e-02, 2.1711674e-03, 3.1043240e-03, ..., 5.9760511e-03,\n",
       "        4.7168601e-03, 3.4877859e-02],\n",
       "       [2.9320326e-03, 9.3457777e-05, 1.3074014e-04, ..., 9.8227181e-05,\n",
       "        8.4179344e-05, 6.1061801e-03],\n",
       "       [1.8663486e-03, 9.4545794e-05, 2.1850606e-04, ..., 9.4343246e-05,\n",
       "        1.1262294e-04, 2.8737576e-03],\n",
       "       ...,\n",
       "       [4.4909334e-03, 3.9280386e-04, 3.3029218e-04, ..., 9.3791768e-04,\n",
       "        7.6642464e-04, 7.8037181e-03],\n",
       "       [2.6725738e-03, 2.0635496e-04, 5.1399518e-04, ..., 5.8521749e-04,\n",
       "        8.1473339e-04, 4.7748010e-03],\n",
       "       [2.4534505e-02, 3.2045175e-03, 3.9635878e-03, ..., 4.1040569e-03,\n",
       "        5.2216463e-03, 3.2320552e-02]], dtype=float32)"
      ]
     },
     "execution_count": 41,
     "metadata": {},
     "output_type": "execute_result"
    }
   ],
   "source": [
    "img, lab = next(iter(test_loader))\n",
    "pred = model(img.to(device))\n",
    "tensor_np = pred[22][0].detach().cpu().numpy()\n",
    "#tensor_np = pred[22][0]\n",
    "\n",
    "#tensor_np = (tensor_np > 0.5).astype(int)\n",
    "plt.imshow(tensor_np, cmap='gray')\n",
    "plt.colorbar()\n",
    "plt.show()\n",
    "tensor_np"
   ]
  },
  {
   "cell_type": "code",
   "execution_count": null,
   "metadata": {},
   "outputs": [
    {
     "data": {
      "image/png": "[encoded data removed]",
      "text/plain": [
       "<Figure size 640x480 with 2 Axes>"
      ]
     },
     "metadata": {},
     "output_type": "display_data"
    }
   ],
   "source": [
    "tensor_np = lab[22][0].detach().cpu().numpy()\n",
    "\n",
    "plt.imshow(tensor_np, cmap='gray')\n",
    "plt.colorbar()\n",
    "plt.show()"
   ]
  },
  {
   "cell_type": "code",
   "execution_count": null,
   "metadata": {},
   "outputs": [],
   "source": []
  }
 ],
 "metadata": {
  "kernelspec": {
   "display_name": "base",
   "language": "python",
   "name": "python3"
  },
  "language_info": {
   "codemirror_mode": {
    "name": "ipython",
    "version": 3
   },
   "file_extension": ".py",
   "mimetype": "text/x-python",
   "name": "python",
   "nbconvert_exporter": "python",
   "pygments_lexer": "ipython3",
   "version": "3.10.9"
  }
 },
 "nbformat": 4,
 "nbformat_minor": 2
}
